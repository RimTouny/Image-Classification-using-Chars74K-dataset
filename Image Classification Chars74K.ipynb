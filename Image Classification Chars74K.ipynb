{
  "cells": [
    {
      "cell_type": "markdown",
      "metadata": {
        "id": "oZnrWMXYejCA"
      },
      "source": [
        "#Common Imports"
      ]
    },
    {
      "cell_type": "code",
      "execution_count": null,
      "metadata": {
        "id": "u32DkzzSXXT0"
      },
      "outputs": [],
      "source": [
        "import numpy as np\n",
        "import pandas as pd\n",
        "import seaborn as sns\n",
        "import matplotlib.pyplot as plt\n",
        "\n",
        "\n",
        "from sklearn.model_selection import train_test_split\n",
        "from sklearn.linear_model import LogisticRegression\n",
        "from sklearn.neural_network import MLPClassifier\n",
        "from sklearn.preprocessing import LabelEncoder\n",
        "from sklearn.metrics import confusion_matrix\n",
        "from sklearn.metrics import roc_curve,auc, roc_auc_score\n",
        "\n",
        "import os\n",
        "from PIL import Image\n",
        "import skimage\n",
        "\n",
        "from google.colab import drive #upload files from GoogleDrive\n",
        "import tarfile #extract tgz files\n",
        "\n",
        "# to make this notebook's output stable across runs\n",
        "np.random.seed(42)"
      ]
    },
    {
      "cell_type": "markdown",
      "metadata": {
        "id": "VtWKWN46iHTX"
      },
      "source": [
        "#Upload EnglishImg.tgz File from Google Drive"
      ]
    },
    {
      "cell_type": "code",
      "execution_count": null,
      "metadata": {
        "colab": {
          "base_uri": "https://localhost:8080/"
        },
        "id": "8k7rCEoFiFw9",
        "outputId": "c490f1c0-a222-4215-db31-012f838f486d"
      },
      "outputs": [
        {
          "name": "stdout",
          "output_type": "stream",
          "text": [
            "Mounted at /content/drive\n",
            "Successfully uploaded 'EnglishImg.tgz' from my Google Drive\n"
          ]
        }
      ],
      "source": [
        "try:\n",
        "    drive.mount('/content/drive')  # Connect Google Drive\n",
        "    file_path = '/content/drive/MyDrive/EnglishImg.tgz' # Define the file path in my Google Drive\n",
        "\n",
        "    print(\"Successfully uploaded 'EnglishImg.tgz' from my Google Drive\")\n",
        "\n",
        "except Exception as e:\n",
        "    print(f\"An error occurred: {e}\")\n"
      ]
    },
    {
      "cell_type": "markdown",
      "metadata": {
        "id": "qaVt1tvbfTqm"
      },
      "source": [
        "# Extract the EnglishImg.tgz File"
      ]
    },
    {
      "cell_type": "code",
      "execution_count": null,
      "metadata": {
        "colab": {
          "base_uri": "https://localhost:8080/"
        },
        "id": "7KcspX8XZRV3",
        "outputId": "2e226e15-b038-4e23-ed4e-5d46d3761a3a"
      },
      "outputs": [
        {
          "name": "stdout",
          "output_type": "stream",
          "text": [
            "Successfully extracted 'EnglishImg.tgz' to 'EnglishImg'\n"
          ]
        }
      ],
      "source": [
        "#extract the EnglishImg.tgz to  EnglishImg\n",
        "extracted_directory = 'EnglishImg'\n",
        "\n",
        "try:\n",
        "    # Create the directory if it doesn't exist\n",
        "    if not os.path.exists(extracted_directory):\n",
        "        os.makedirs(extracted_directory)\n",
        "\n",
        "    # Open the EnglishImg.tgz file and Extract its contents to the new directory (extracted_directory = 'EnglishImg')\n",
        "    with tarfile.open(file_path, 'r:gz') as tar:\n",
        "        tar.extractall(path=extracted_directory)\n",
        "\n",
        "    print(f\"Successfully extracted 'EnglishImg.tgz' to '{extracted_directory}'\")\n",
        "\n",
        "except Exception as e:\n",
        "    print(f\"An error occurred: {e}\")"
      ]
    },
    {
      "cell_type": "markdown",
      "metadata": {
        "id": "_R2zp0BtndSi"
      },
      "source": [
        "#1.1 Getting Started"
      ]
    },
    {
      "cell_type": "markdown",
      "metadata": {
        "id": "aaRb5xzkBK3K"
      },
      "source": [
        "## Helper Function that assign a Label for each sample according to its FolderName using ascii code\n",
        "\n",
        "#### For numbers 1 to 10, we map them to strings '0' to '9'.\n",
        "#### For numbers 11 to 36, we map them to uppercase letters 'A' to 'Z'. (+54)\n",
        "#### For numbers 37 to 62, we map them to lowercase letters 'a' to 'z'. (+60)"
      ]
    },
    {
      "cell_type": "code",
      "execution_count": null,
      "metadata": {
        "id": "sni5rSJh7zRy"
      },
      "outputs": [],
      "source": [
        "def extract_and_map_number_to_label(filename):\n",
        "\n",
        "    number_str = filename[6:]    # Extract the numeric part\n",
        "    number_str = number_str.lstrip('0')  # Remove leading zeros if any\n",
        "    number = int(number_str)  # Convert the number string to an integer\n",
        "\n",
        "    # Map the number to the corresponding label\n",
        "    if 1 <= number <= 10:\n",
        "        return number - 1         # Map 1 to 0, 2 to 1, ..., 10 to 9\n",
        "    elif 11 <= number <= 36:\n",
        "        return chr(number + 54)  # Map 11 to 'A', 12 to 'B', ..., 36 to 'Z'\n",
        "    elif 37 <= number <= 62:\n",
        "        return chr(number + 60)  # Map 37 to 'a', 38 to 'b', ..., 62 to 'z'"
      ]
    },
    {
      "cell_type": "markdown",
      "metadata": {
        "id": "fsn7vXyRar3a"
      },
      "source": [
        "### Test Function"
      ]
    },
    {
      "cell_type": "code",
      "execution_count": null,
      "metadata": {
        "colab": {
          "base_uri": "https://localhost:8080/"
        },
        "id": "bn4esVFtZ5YV",
        "outputId": "d6d45a00-2be4-4304-e2a0-ab23bcd6ccda"
      },
      "outputs": [
        {
          "name": "stdout",
          "output_type": "stream",
          "text": [
            "Filename: Sample001, Label: 0\n",
            "Filename: Sample002, Label: 1\n",
            "Filename: Sample003, Label: 2\n",
            "Filename: Sample004, Label: 3\n",
            "Filename: Sample005, Label: 4\n",
            "Filename: Sample006, Label: 5\n",
            "Filename: Sample007, Label: 6\n",
            "Filename: Sample008, Label: 7\n",
            "Filename: Sample009, Label: 8\n",
            "Filename: Sample010, Label: 9\n",
            "Filename: Sample011, Label: A\n",
            "Filename: Sample012, Label: B\n",
            "Filename: Sample013, Label: C\n",
            "Filename: Sample014, Label: D\n",
            "Filename: Sample015, Label: E\n",
            "Filename: Sample016, Label: F\n",
            "Filename: Sample017, Label: G\n",
            "Filename: Sample018, Label: H\n",
            "Filename: Sample019, Label: I\n",
            "Filename: Sample020, Label: J\n",
            "Filename: Sample021, Label: K\n",
            "Filename: Sample022, Label: L\n",
            "Filename: Sample023, Label: M\n",
            "Filename: Sample024, Label: N\n",
            "Filename: Sample025, Label: O\n",
            "Filename: Sample026, Label: P\n",
            "Filename: Sample027, Label: Q\n",
            "Filename: Sample028, Label: R\n",
            "Filename: Sample029, Label: S\n",
            "Filename: Sample030, Label: T\n",
            "Filename: Sample031, Label: U\n",
            "Filename: Sample032, Label: V\n",
            "Filename: Sample033, Label: W\n",
            "Filename: Sample034, Label: X\n",
            "Filename: Sample035, Label: Y\n",
            "Filename: Sample036, Label: Z\n",
            "Filename: Sample037, Label: a\n",
            "Filename: Sample038, Label: b\n",
            "Filename: Sample039, Label: c\n",
            "Filename: Sample040, Label: d\n",
            "Filename: Sample041, Label: e\n",
            "Filename: Sample042, Label: f\n",
            "Filename: Sample043, Label: g\n",
            "Filename: Sample044, Label: h\n",
            "Filename: Sample045, Label: i\n",
            "Filename: Sample046, Label: j\n",
            "Filename: Sample047, Label: k\n",
            "Filename: Sample048, Label: l\n",
            "Filename: Sample049, Label: m\n",
            "Filename: Sample050, Label: n\n",
            "Filename: Sample051, Label: o\n",
            "Filename: Sample052, Label: p\n",
            "Filename: Sample053, Label: q\n",
            "Filename: Sample054, Label: r\n",
            "Filename: Sample055, Label: s\n",
            "Filename: Sample056, Label: t\n",
            "Filename: Sample057, Label: u\n",
            "Filename: Sample058, Label: v\n",
            "Filename: Sample059, Label: w\n",
            "Filename: Sample060, Label: x\n",
            "Filename: Sample061, Label: y\n",
            "Filename: Sample062, Label: z\n"
          ]
        }
      ],
      "source": [
        "# Generate filenames from \"Sample001\" to \"Sample062\"\n",
        "filenames = [f\"Sample{i:03d}\" for i in range(1, 63)]\n",
        "\n",
        "# Extract and map labels for each filename\n",
        "labels = [extract_and_map_number_to_label(filename) for filename in filenames]\n",
        "\n",
        "# Print the filenames and their corresponding labels\n",
        "for filename, label in zip(filenames, labels):\n",
        "    print(f\"Filename: {filename}, Label: {label}\")"
      ]
    },
    {
      "cell_type": "markdown",
      "metadata": {
        "id": "qInNhN1fl2H5"
      },
      "source": [
        "## Reading the Samples and assgin Labels"
      ]
    },
    {
      "cell_type": "code",
      "execution_count": null,
      "metadata": {
        "colab": {
          "base_uri": "https://localhost:8080/"
        },
        "id": "QVoUNn-Hw_b8",
        "outputId": "2219402e-8c01-4fb9-ba89-1651bb5954ac"
      },
      "outputs": [
        {
          "data": {
            "text/plain": [
              "{'Sample005': 4, 'Sample011': 'A', 'Sample057': 'u', 'Sample018': 'H'}"
            ]
          },
          "execution_count": 6,
          "metadata": {},
          "output_type": "execute_result"
        }
      ],
      "source": [
        "# Define the path\n",
        "english_img_directory = 'EnglishImg/English/Img/GoodImg/Bmp'\n",
        "\n",
        "# Define the paths for the subfolders for digit 4 and characters A,u,H\n",
        "subfolder_paths = {\n",
        "    'Sample005': extract_and_map_number_to_label('Sample005'),\n",
        "    'Sample011': extract_and_map_number_to_label('Sample011'),\n",
        "    'Sample057': extract_and_map_number_to_label('Sample057'),\n",
        "    'Sample018': extract_and_map_number_to_label('Sample018')\n",
        "}\n",
        "\n",
        "subfolder_paths"
      ]
    },
    {
      "cell_type": "code",
      "execution_count": null,
      "metadata": {
        "colab": {
          "base_uri": "https://localhost:8080/",
          "height": 460
        },
        "id": "_gYjqO58mmyb",
        "outputId": "33ca1735-dcfa-4b75-a1d0-817bdc88a306"
      },
      "outputs": [
        {
          "name": "stdout",
          "output_type": "stream",
          "text": [
            "Combined array shape: (839, 4097)\n",
            "\n"
          ]
        },
        {
          "data": {
            "text/html": [
              "\n",
              "  <div id=\"df-cbc8e5c6-7f87-481e-a89c-379ab29c2c01\" class=\"colab-df-container\">\n",
              "    <div>\n",
              "<style scoped>\n",
              "    .dataframe tbody tr th:only-of-type {\n",
              "        vertical-align: middle;\n",
              "    }\n",
              "\n",
              "    .dataframe tbody tr th {\n",
              "        vertical-align: top;\n",
              "    }\n",
              "\n",
              "    .dataframe thead th {\n",
              "        text-align: right;\n",
              "    }\n",
              "</style>\n",
              "<table border=\"1\" class=\"dataframe\">\n",
              "  <thead>\n",
              "    <tr style=\"text-align: right;\">\n",
              "      <th></th>\n",
              "      <th>0</th>\n",
              "      <th>1</th>\n",
              "      <th>2</th>\n",
              "      <th>3</th>\n",
              "      <th>4</th>\n",
              "      <th>5</th>\n",
              "      <th>6</th>\n",
              "      <th>7</th>\n",
              "      <th>8</th>\n",
              "      <th>9</th>\n",
              "      <th>...</th>\n",
              "      <th>4087</th>\n",
              "      <th>4088</th>\n",
              "      <th>4089</th>\n",
              "      <th>4090</th>\n",
              "      <th>4091</th>\n",
              "      <th>4092</th>\n",
              "      <th>4093</th>\n",
              "      <th>4094</th>\n",
              "      <th>4095</th>\n",
              "      <th>Label</th>\n",
              "    </tr>\n",
              "  </thead>\n",
              "  <tbody>\n",
              "    <tr>\n",
              "      <th>0</th>\n",
              "      <td>152</td>\n",
              "      <td>154</td>\n",
              "      <td>154</td>\n",
              "      <td>155</td>\n",
              "      <td>154</td>\n",
              "      <td>153</td>\n",
              "      <td>153</td>\n",
              "      <td>154</td>\n",
              "      <td>156</td>\n",
              "      <td>155</td>\n",
              "      <td>...</td>\n",
              "      <td>173</td>\n",
              "      <td>172</td>\n",
              "      <td>172</td>\n",
              "      <td>173</td>\n",
              "      <td>172</td>\n",
              "      <td>171</td>\n",
              "      <td>172</td>\n",
              "      <td>173</td>\n",
              "      <td>174</td>\n",
              "      <td>4</td>\n",
              "    </tr>\n",
              "    <tr>\n",
              "      <th>1</th>\n",
              "      <td>193</td>\n",
              "      <td>193</td>\n",
              "      <td>192</td>\n",
              "      <td>191</td>\n",
              "      <td>189</td>\n",
              "      <td>191</td>\n",
              "      <td>193</td>\n",
              "      <td>194</td>\n",
              "      <td>193</td>\n",
              "      <td>192</td>\n",
              "      <td>...</td>\n",
              "      <td>64</td>\n",
              "      <td>55</td>\n",
              "      <td>64</td>\n",
              "      <td>89</td>\n",
              "      <td>125</td>\n",
              "      <td>157</td>\n",
              "      <td>171</td>\n",
              "      <td>167</td>\n",
              "      <td>156</td>\n",
              "      <td>4</td>\n",
              "    </tr>\n",
              "    <tr>\n",
              "      <th>2</th>\n",
              "      <td>60</td>\n",
              "      <td>63</td>\n",
              "      <td>63</td>\n",
              "      <td>62</td>\n",
              "      <td>61</td>\n",
              "      <td>62</td>\n",
              "      <td>62</td>\n",
              "      <td>60</td>\n",
              "      <td>59</td>\n",
              "      <td>63</td>\n",
              "      <td>...</td>\n",
              "      <td>91</td>\n",
              "      <td>62</td>\n",
              "      <td>76</td>\n",
              "      <td>71</td>\n",
              "      <td>66</td>\n",
              "      <td>67</td>\n",
              "      <td>68</td>\n",
              "      <td>66</td>\n",
              "      <td>65</td>\n",
              "      <td>4</td>\n",
              "    </tr>\n",
              "    <tr>\n",
              "      <th>3</th>\n",
              "      <td>62</td>\n",
              "      <td>62</td>\n",
              "      <td>63</td>\n",
              "      <td>63</td>\n",
              "      <td>60</td>\n",
              "      <td>61</td>\n",
              "      <td>63</td>\n",
              "      <td>63</td>\n",
              "      <td>63</td>\n",
              "      <td>63</td>\n",
              "      <td>...</td>\n",
              "      <td>66</td>\n",
              "      <td>67</td>\n",
              "      <td>66</td>\n",
              "      <td>64</td>\n",
              "      <td>63</td>\n",
              "      <td>63</td>\n",
              "      <td>64</td>\n",
              "      <td>64</td>\n",
              "      <td>64</td>\n",
              "      <td>4</td>\n",
              "    </tr>\n",
              "    <tr>\n",
              "      <th>4</th>\n",
              "      <td>56</td>\n",
              "      <td>56</td>\n",
              "      <td>53</td>\n",
              "      <td>56</td>\n",
              "      <td>56</td>\n",
              "      <td>59</td>\n",
              "      <td>60</td>\n",
              "      <td>62</td>\n",
              "      <td>63</td>\n",
              "      <td>67</td>\n",
              "      <td>...</td>\n",
              "      <td>51</td>\n",
              "      <td>50</td>\n",
              "      <td>49</td>\n",
              "      <td>53</td>\n",
              "      <td>52</td>\n",
              "      <td>51</td>\n",
              "      <td>54</td>\n",
              "      <td>52</td>\n",
              "      <td>50</td>\n",
              "      <td>4</td>\n",
              "    </tr>\n",
              "    <tr>\n",
              "      <th>...</th>\n",
              "      <td>...</td>\n",
              "      <td>...</td>\n",
              "      <td>...</td>\n",
              "      <td>...</td>\n",
              "      <td>...</td>\n",
              "      <td>...</td>\n",
              "      <td>...</td>\n",
              "      <td>...</td>\n",
              "      <td>...</td>\n",
              "      <td>...</td>\n",
              "      <td>...</td>\n",
              "      <td>...</td>\n",
              "      <td>...</td>\n",
              "      <td>...</td>\n",
              "      <td>...</td>\n",
              "      <td>...</td>\n",
              "      <td>...</td>\n",
              "      <td>...</td>\n",
              "      <td>...</td>\n",
              "      <td>...</td>\n",
              "      <td>...</td>\n",
              "    </tr>\n",
              "    <tr>\n",
              "      <th>834</th>\n",
              "      <td>31</td>\n",
              "      <td>37</td>\n",
              "      <td>43</td>\n",
              "      <td>46</td>\n",
              "      <td>39</td>\n",
              "      <td>30</td>\n",
              "      <td>29</td>\n",
              "      <td>30</td>\n",
              "      <td>30</td>\n",
              "      <td>30</td>\n",
              "      <td>...</td>\n",
              "      <td>42</td>\n",
              "      <td>43</td>\n",
              "      <td>41</td>\n",
              "      <td>38</td>\n",
              "      <td>39</td>\n",
              "      <td>38</td>\n",
              "      <td>38</td>\n",
              "      <td>38</td>\n",
              "      <td>37</td>\n",
              "      <td>H</td>\n",
              "    </tr>\n",
              "    <tr>\n",
              "      <th>835</th>\n",
              "      <td>146</td>\n",
              "      <td>145</td>\n",
              "      <td>144</td>\n",
              "      <td>146</td>\n",
              "      <td>146</td>\n",
              "      <td>146</td>\n",
              "      <td>149</td>\n",
              "      <td>150</td>\n",
              "      <td>148</td>\n",
              "      <td>148</td>\n",
              "      <td>...</td>\n",
              "      <td>132</td>\n",
              "      <td>133</td>\n",
              "      <td>135</td>\n",
              "      <td>135</td>\n",
              "      <td>131</td>\n",
              "      <td>132</td>\n",
              "      <td>135</td>\n",
              "      <td>129</td>\n",
              "      <td>133</td>\n",
              "      <td>H</td>\n",
              "    </tr>\n",
              "    <tr>\n",
              "      <th>836</th>\n",
              "      <td>72</td>\n",
              "      <td>71</td>\n",
              "      <td>71</td>\n",
              "      <td>65</td>\n",
              "      <td>71</td>\n",
              "      <td>73</td>\n",
              "      <td>71</td>\n",
              "      <td>68</td>\n",
              "      <td>66</td>\n",
              "      <td>74</td>\n",
              "      <td>...</td>\n",
              "      <td>60</td>\n",
              "      <td>64</td>\n",
              "      <td>65</td>\n",
              "      <td>70</td>\n",
              "      <td>63</td>\n",
              "      <td>66</td>\n",
              "      <td>62</td>\n",
              "      <td>67</td>\n",
              "      <td>64</td>\n",
              "      <td>H</td>\n",
              "    </tr>\n",
              "    <tr>\n",
              "      <th>837</th>\n",
              "      <td>64</td>\n",
              "      <td>64</td>\n",
              "      <td>59</td>\n",
              "      <td>52</td>\n",
              "      <td>77</td>\n",
              "      <td>110</td>\n",
              "      <td>132</td>\n",
              "      <td>153</td>\n",
              "      <td>173</td>\n",
              "      <td>179</td>\n",
              "      <td>...</td>\n",
              "      <td>88</td>\n",
              "      <td>53</td>\n",
              "      <td>56</td>\n",
              "      <td>52</td>\n",
              "      <td>50</td>\n",
              "      <td>56</td>\n",
              "      <td>55</td>\n",
              "      <td>56</td>\n",
              "      <td>56</td>\n",
              "      <td>H</td>\n",
              "    </tr>\n",
              "    <tr>\n",
              "      <th>838</th>\n",
              "      <td>47</td>\n",
              "      <td>47</td>\n",
              "      <td>47</td>\n",
              "      <td>47</td>\n",
              "      <td>48</td>\n",
              "      <td>49</td>\n",
              "      <td>47</td>\n",
              "      <td>46</td>\n",
              "      <td>45</td>\n",
              "      <td>45</td>\n",
              "      <td>...</td>\n",
              "      <td>50</td>\n",
              "      <td>49</td>\n",
              "      <td>48</td>\n",
              "      <td>46</td>\n",
              "      <td>46</td>\n",
              "      <td>47</td>\n",
              "      <td>47</td>\n",
              "      <td>46</td>\n",
              "      <td>46</td>\n",
              "      <td>H</td>\n",
              "    </tr>\n",
              "  </tbody>\n",
              "</table>\n",
              "<p>839 rows × 4097 columns</p>\n",
              "</div>\n",
              "    <div class=\"colab-df-buttons\">\n",
              "\n",
              "  <div class=\"colab-df-container\">\n",
              "    <button class=\"colab-df-convert\" onclick=\"convertToInteractive('df-cbc8e5c6-7f87-481e-a89c-379ab29c2c01')\"\n",
              "            title=\"Convert this dataframe to an interactive table.\"\n",
              "            style=\"display:none;\">\n",
              "\n",
              "  <svg xmlns=\"http://www.w3.org/2000/svg\" height=\"24px\" viewBox=\"0 -960 960 960\">\n",
              "    <path d=\"M120-120v-720h720v720H120Zm60-500h600v-160H180v160Zm220 220h160v-160H400v160Zm0 220h160v-160H400v160ZM180-400h160v-160H180v160Zm440 0h160v-160H620v160ZM180-180h160v-160H180v160Zm440 0h160v-160H620v160Z\"/>\n",
              "  </svg>\n",
              "    </button>\n",
              "\n",
              "  <style>\n",
              "    .colab-df-container {\n",
              "      display:flex;\n",
              "      gap: 12px;\n",
              "    }\n",
              "\n",
              "    .colab-df-convert {\n",
              "      background-color: #E8F0FE;\n",
              "      border: none;\n",
              "      border-radius: 50%;\n",
              "      cursor: pointer;\n",
              "      display: none;\n",
              "      fill: #1967D2;\n",
              "      height: 32px;\n",
              "      padding: 0 0 0 0;\n",
              "      width: 32px;\n",
              "    }\n",
              "\n",
              "    .colab-df-convert:hover {\n",
              "      background-color: #E2EBFA;\n",
              "      box-shadow: 0px 1px 2px rgba(60, 64, 67, 0.3), 0px 1px 3px 1px rgba(60, 64, 67, 0.15);\n",
              "      fill: #174EA6;\n",
              "    }\n",
              "\n",
              "    .colab-df-buttons div {\n",
              "      margin-bottom: 4px;\n",
              "    }\n",
              "\n",
              "    [theme=dark] .colab-df-convert {\n",
              "      background-color: #3B4455;\n",
              "      fill: #D2E3FC;\n",
              "    }\n",
              "\n",
              "    [theme=dark] .colab-df-convert:hover {\n",
              "      background-color: #434B5C;\n",
              "      box-shadow: 0px 1px 3px 1px rgba(0, 0, 0, 0.15);\n",
              "      filter: drop-shadow(0px 1px 2px rgba(0, 0, 0, 0.3));\n",
              "      fill: #FFFFFF;\n",
              "    }\n",
              "  </style>\n",
              "\n",
              "    <script>\n",
              "      const buttonEl =\n",
              "        document.querySelector('#df-cbc8e5c6-7f87-481e-a89c-379ab29c2c01 button.colab-df-convert');\n",
              "      buttonEl.style.display =\n",
              "        google.colab.kernel.accessAllowed ? 'block' : 'none';\n",
              "\n",
              "      async function convertToInteractive(key) {\n",
              "        const element = document.querySelector('#df-cbc8e5c6-7f87-481e-a89c-379ab29c2c01');\n",
              "        const dataTable =\n",
              "          await google.colab.kernel.invokeFunction('convertToInteractive',\n",
              "                                                    [key], {});\n",
              "        if (!dataTable) return;\n",
              "\n",
              "        const docLinkHtml = 'Like what you see? Visit the ' +\n",
              "          '<a target=\"_blank\" href=https://colab.research.google.com/notebooks/data_table.ipynb>data table notebook</a>'\n",
              "          + ' to learn more about interactive tables.';\n",
              "        element.innerHTML = '';\n",
              "        dataTable['output_type'] = 'display_data';\n",
              "        await google.colab.output.renderOutput(dataTable, element);\n",
              "        const docLink = document.createElement('div');\n",
              "        docLink.innerHTML = docLinkHtml;\n",
              "        element.appendChild(docLink);\n",
              "      }\n",
              "    </script>\n",
              "  </div>\n",
              "\n",
              "\n",
              "<div id=\"df-b0df8ad9-3a15-46fd-bda8-cc51a6b30eff\">\n",
              "  <button class=\"colab-df-quickchart\" onclick=\"quickchart('df-b0df8ad9-3a15-46fd-bda8-cc51a6b30eff')\"\n",
              "            title=\"Suggest charts.\"\n",
              "            style=\"display:none;\">\n",
              "\n",
              "<svg xmlns=\"http://www.w3.org/2000/svg\" height=\"24px\"viewBox=\"0 0 24 24\"\n",
              "     width=\"24px\">\n",
              "    <g>\n",
              "        <path d=\"M19 3H5c-1.1 0-2 .9-2 2v14c0 1.1.9 2 2 2h14c1.1 0 2-.9 2-2V5c0-1.1-.9-2-2-2zM9 17H7v-7h2v7zm4 0h-2V7h2v10zm4 0h-2v-4h2v4z\"/>\n",
              "    </g>\n",
              "</svg>\n",
              "  </button>\n",
              "\n",
              "<style>\n",
              "  .colab-df-quickchart {\n",
              "      --bg-color: #E8F0FE;\n",
              "      --fill-color: #1967D2;\n",
              "      --hover-bg-color: #E2EBFA;\n",
              "      --hover-fill-color: #174EA6;\n",
              "      --disabled-fill-color: #AAA;\n",
              "      --disabled-bg-color: #DDD;\n",
              "  }\n",
              "\n",
              "  [theme=dark] .colab-df-quickchart {\n",
              "      --bg-color: #3B4455;\n",
              "      --fill-color: #D2E3FC;\n",
              "      --hover-bg-color: #434B5C;\n",
              "      --hover-fill-color: #FFFFFF;\n",
              "      --disabled-bg-color: #3B4455;\n",
              "      --disabled-fill-color: #666;\n",
              "  }\n",
              "\n",
              "  .colab-df-quickchart {\n",
              "    background-color: var(--bg-color);\n",
              "    border: none;\n",
              "    border-radius: 50%;\n",
              "    cursor: pointer;\n",
              "    display: none;\n",
              "    fill: var(--fill-color);\n",
              "    height: 32px;\n",
              "    padding: 0;\n",
              "    width: 32px;\n",
              "  }\n",
              "\n",
              "  .colab-df-quickchart:hover {\n",
              "    background-color: var(--hover-bg-color);\n",
              "    box-shadow: 0 1px 2px rgba(60, 64, 67, 0.3), 0 1px 3px 1px rgba(60, 64, 67, 0.15);\n",
              "    fill: var(--button-hover-fill-color);\n",
              "  }\n",
              "\n",
              "  .colab-df-quickchart-complete:disabled,\n",
              "  .colab-df-quickchart-complete:disabled:hover {\n",
              "    background-color: var(--disabled-bg-color);\n",
              "    fill: var(--disabled-fill-color);\n",
              "    box-shadow: none;\n",
              "  }\n",
              "\n",
              "  .colab-df-spinner {\n",
              "    border: 2px solid var(--fill-color);\n",
              "    border-color: transparent;\n",
              "    border-bottom-color: var(--fill-color);\n",
              "    animation:\n",
              "      spin 1s steps(1) infinite;\n",
              "  }\n",
              "\n",
              "  @keyframes spin {\n",
              "    0% {\n",
              "      border-color: transparent;\n",
              "      border-bottom-color: var(--fill-color);\n",
              "      border-left-color: var(--fill-color);\n",
              "    }\n",
              "    20% {\n",
              "      border-color: transparent;\n",
              "      border-left-color: var(--fill-color);\n",
              "      border-top-color: var(--fill-color);\n",
              "    }\n",
              "    30% {\n",
              "      border-color: transparent;\n",
              "      border-left-color: var(--fill-color);\n",
              "      border-top-color: var(--fill-color);\n",
              "      border-right-color: var(--fill-color);\n",
              "    }\n",
              "    40% {\n",
              "      border-color: transparent;\n",
              "      border-right-color: var(--fill-color);\n",
              "      border-top-color: var(--fill-color);\n",
              "    }\n",
              "    60% {\n",
              "      border-color: transparent;\n",
              "      border-right-color: var(--fill-color);\n",
              "    }\n",
              "    80% {\n",
              "      border-color: transparent;\n",
              "      border-right-color: var(--fill-color);\n",
              "      border-bottom-color: var(--fill-color);\n",
              "    }\n",
              "    90% {\n",
              "      border-color: transparent;\n",
              "      border-bottom-color: var(--fill-color);\n",
              "    }\n",
              "  }\n",
              "</style>\n",
              "\n",
              "  <script>\n",
              "    async function quickchart(key) {\n",
              "      const quickchartButtonEl =\n",
              "        document.querySelector('#' + key + ' button');\n",
              "      quickchartButtonEl.disabled = true;  // To prevent multiple clicks.\n",
              "      quickchartButtonEl.classList.add('colab-df-spinner');\n",
              "      try {\n",
              "        const charts = await google.colab.kernel.invokeFunction(\n",
              "            'suggestCharts', [key], {});\n",
              "      } catch (error) {\n",
              "        console.error('Error during call to suggestCharts:', error);\n",
              "      }\n",
              "      quickchartButtonEl.classList.remove('colab-df-spinner');\n",
              "      quickchartButtonEl.classList.add('colab-df-quickchart-complete');\n",
              "    }\n",
              "    (() => {\n",
              "      let quickchartButtonEl =\n",
              "        document.querySelector('#df-b0df8ad9-3a15-46fd-bda8-cc51a6b30eff button');\n",
              "      quickchartButtonEl.style.display =\n",
              "        google.colab.kernel.accessAllowed ? 'block' : 'none';\n",
              "    })();\n",
              "  </script>\n",
              "</div>\n",
              "    </div>\n",
              "  </div>\n"
            ],
            "text/plain": [
              "       0    1    2    3    4    5    6    7    8    9  ... 4087 4088 4089  \\\n",
              "0    152  154  154  155  154  153  153  154  156  155  ...  173  172  172   \n",
              "1    193  193  192  191  189  191  193  194  193  192  ...   64   55   64   \n",
              "2     60   63   63   62   61   62   62   60   59   63  ...   91   62   76   \n",
              "3     62   62   63   63   60   61   63   63   63   63  ...   66   67   66   \n",
              "4     56   56   53   56   56   59   60   62   63   67  ...   51   50   49   \n",
              "..   ...  ...  ...  ...  ...  ...  ...  ...  ...  ...  ...  ...  ...  ...   \n",
              "834   31   37   43   46   39   30   29   30   30   30  ...   42   43   41   \n",
              "835  146  145  144  146  146  146  149  150  148  148  ...  132  133  135   \n",
              "836   72   71   71   65   71   73   71   68   66   74  ...   60   64   65   \n",
              "837   64   64   59   52   77  110  132  153  173  179  ...   88   53   56   \n",
              "838   47   47   47   47   48   49   47   46   45   45  ...   50   49   48   \n",
              "\n",
              "    4090 4091 4092 4093 4094 4095 Label  \n",
              "0    173  172  171  172  173  174     4  \n",
              "1     89  125  157  171  167  156     4  \n",
              "2     71   66   67   68   66   65     4  \n",
              "3     64   63   63   64   64   64     4  \n",
              "4     53   52   51   54   52   50     4  \n",
              "..   ...  ...  ...  ...  ...  ...   ...  \n",
              "834   38   39   38   38   38   37     H  \n",
              "835  135  131  132  135  129  133     H  \n",
              "836   70   63   66   62   67   64     H  \n",
              "837   52   50   56   55   56   56     H  \n",
              "838   46   46   47   47   46   46     H  \n",
              "\n",
              "[839 rows x 4097 columns]"
            ]
          },
          "execution_count": 7,
          "metadata": {},
          "output_type": "execute_result"
        }
      ],
      "source": [
        "data = []\n",
        "labels = []\n",
        "\n",
        "# Iterate over the subfolders and their corresponding labels\n",
        "for subfolder, label in subfolder_paths.items():\n",
        "    subfolder_path = os.path.join(english_img_directory, subfolder)\n",
        "\n",
        "    # Iterate over the images in the subfolder of each digits or char\n",
        "    for filename in os.listdir(subfolder_path):\n",
        "\n",
        "      # Load and preprocess the image\n",
        "      image_path = os.path.join(subfolder_path, filename)\n",
        "      image = Image.open(image_path)\n",
        "      image = image.resize((64, 64))\n",
        "\n",
        "      # Convert the resized image to grayscale\n",
        "      grayscale_image = image.convert('L')\n",
        "\n",
        "      # Convert the image to a numpy array\n",
        "      image_array = np.array(grayscale_image)\n",
        "\n",
        "      # Flatten the 2D array into a 1D array and append it to the data list\n",
        "      image_data = image_array.ravel()\n",
        "\n",
        "      data.append(image_data)\n",
        "      labels.append(label)  # Append the corresponding label\n",
        "\n",
        "# Convert the lists to NumPy arrays\n",
        "data_np = np.array(data)\n",
        "labels_np = np.array(labels)\n",
        "\n",
        "# Join the label for each image to its data along the columns (axis 1)\n",
        "data_with_labels = np.column_stack((data_np, labels_np))\n",
        "\n",
        "# Print the shape of the combined array\n",
        "print(f\"Combined array shape: {data_with_labels.shape}\\n\")\n",
        "\n",
        "# Convert the NumPy array to a Pandas DataFrame\n",
        "df = pd.DataFrame(data_with_labels)\n",
        "df = df.rename(columns={df.columns[-1]: 'Label'})\n",
        "df\n"
      ]
    },
    {
      "cell_type": "markdown",
      "metadata": {
        "id": "nTfPzZMu-6ZO"
      },
      "source": [
        "#Helper function to convert X--> from numpy to numeric ,y--> Label encoder 0-->4 ,1-->A\n",
        "###return X(from numpy to float32) ,Encode y (4-->0 , A-->1 ,H-->2 ,u-->3)"
      ]
    },
    {
      "cell_type": "code",
      "execution_count": null,
      "metadata": {
        "id": "GKcqXTrf9_7y"
      },
      "outputs": [],
      "source": [
        "def to_numeric (X,y):\n",
        "  X = X.astype(np.float32)\n",
        "\n",
        "  # Transform the labels to numeric values\n",
        "  label_encoder = LabelEncoder()\n",
        "  y_encoded = label_encoder.fit_transform(y)\n",
        "  print(\"Transformed labels:\", y_encoded)\n",
        "\n",
        "  print(\"\\nX dtype:\", X.dtype)\n",
        "  print(\"Y dtype:\", y_encoded.dtype)\n",
        "\n",
        "  return X,y_encoded"
      ]
    },
    {
      "cell_type": "markdown",
      "metadata": {
        "id": "VULJ1wGLEu18"
      },
      "source": [
        "#1.2 Binary Classifiers"
      ]
    },
    {
      "cell_type": "code",
      "execution_count": null,
      "metadata": {
        "id": "iSNFLwr7nxj4"
      },
      "outputs": [],
      "source": [
        "# Define the target classes\n",
        "target_classes = ['4', 'A']"
      ]
    },
    {
      "cell_type": "markdown",
      "metadata": {
        "id": "tZoHqdtn_0QY"
      },
      "source": [
        "##Helper Funtions"
      ]
    },
    {
      "cell_type": "markdown",
      "metadata": {
        "id": "YqpfyRgMzeXg"
      },
      "source": [
        "### Fuction to run LogisticRegression model given any x_train,y_train_x_test\n",
        "### return y_train_pred,y_test_pred"
      ]
    },
    {
      "cell_type": "code",
      "execution_count": null,
      "metadata": {
        "id": "EJXfcPgAoMBa"
      },
      "outputs": [],
      "source": [
        "def LogisticRegression_Model (X_train, y_train,X_test):\n",
        "\n",
        "  logistic_model = LogisticRegression(max_iter=10, tol=0.1, solver='liblinear')\n",
        "  logistic_model.fit(X_train, y_train)\n",
        "\n",
        "  y_train_pred = logistic_model.predict(X_train) # Predict labels for the training data\n",
        "  y_test_pred = logistic_model.predict(X_test)  # Predict labels for the testing data\n",
        "\n",
        "  return y_train_pred,y_test_pred\n"
      ]
    },
    {
      "cell_type": "markdown",
      "metadata": {
        "id": "-CBwvVDs1HTI"
      },
      "source": [
        "### Evalution Function that calcualte confusion matrix (without using any scikit-learn function)to calualte accuracy,recall and precision given actual y , the predict y and text(Train/Test).\n",
        "### Return TP, TF, FP, FN ,accuracy,recall and precision,ROC curve"
      ]
    },
    {
      "cell_type": "code",
      "execution_count": null,
      "metadata": {
        "id": "snDzaaDJH0g_"
      },
      "outputs": [],
      "source": [
        "def Binary_Evalution(y, y_pred,text):\n",
        "\n",
        "  TP = TN = FP = FN= 0\n",
        "\n",
        "  # Calculate the confusion matrix elements\n",
        "  for true_label, predicted_label in zip(y, y_pred):\n",
        "      if true_label == 1 and predicted_label == 1:\n",
        "          TP+= 1\n",
        "      elif true_label == 0 and predicted_label == 0:\n",
        "          TN += 1\n",
        "      elif true_label == 0 and predicted_label == 1:\n",
        "          FP += 1\n",
        "      elif true_label == 1 and predicted_label == 0:\n",
        "          FN += 1\n",
        "\n",
        "  # Print the confusion matrix and metrics\n",
        "  print(f\"\\n{text} Data Metrics:\\n\")\n",
        "  print(\"Confusion Matrix:\")\n",
        "  print(f\"True Positives (TP): {TP}\")\n",
        "  print(f\"True Negatives (TN): {TN}\")\n",
        "  print(f\"False Positives (FP): {FP}\")\n",
        "  print(f\"False Negatives (FN): {FN}\")\n",
        "\n",
        "  accuracy= (TP + TN) / (TP + TN+ FP + FN)  # Calculate accuracy\n",
        "  recall = TP / (TP + FN)   # Calculate recall\n",
        "  precision = TP / (TP + FP)  # Calculate precision\n",
        "\n",
        "  # Print accuracy, recall, and precision\n",
        "  print(f\"\\n\\nAccuracy for {text} data: {accuracy*100:.2f}%\")\n",
        "  print(f\"Recall for {text} data: {recall*100:.2f}%\")\n",
        "  print(f\"Precision for {text} data: {precision*100:.2f}% \\n\\n\")\n",
        "\n",
        "  # Confusion Matrix\n",
        "  cm = confusion_matrix(y, y_pred)\n",
        "  plt.figure(figsize=(4, 3))\n",
        "  sns.heatmap(cm, annot=True, cmap='Pastel2', fmt='g', xticklabels=target_classes, yticklabels=target_classes)\n",
        "  plt.title(f\"{text} Confusion Matrix\")\n",
        "  plt.xlabel('Predicted Labels')\n",
        "  plt.ylabel('Actual Labels')\n",
        "\n",
        "  plt.tight_layout()\n",
        "  plt.show()\n",
        "  print('\\n')\n",
        "\n",
        "  # ROC Curve\n",
        "  fpr, tpr, _ = roc_curve(y, y_pred)\n",
        "  roc_auc = auc(fpr, tpr)\n",
        "\n",
        "  plt.figure(figsize=(8, 6))\n",
        "  plt.plot(fpr, tpr, color='pink', lw=2, label='ROC curve (area = {:.2f})'.format(roc_auc))\n",
        "  plt.plot([0, 1], [0, 1], color='green', lw=2, linestyle='--')\n",
        "  plt.xlim([0.0, 1.0])\n",
        "  plt.ylim([0.0, 1.05])\n",
        "  plt.xlabel('False Positive Rate')\n",
        "  plt.ylabel('True Positive Rate')\n",
        "  plt.title(f'ROC Curve for {text} Data')\n",
        "  plt.legend(loc=\"lower right\")\n",
        "  plt.show()"
      ]
    },
    {
      "cell_type": "markdown",
      "metadata": {
        "id": "ngadjaonpnhf"
      },
      "source": [
        "## Filtering the images to apply binary classifiers on 'A' and '4' Labels"
      ]
    },
    {
      "cell_type": "code",
      "execution_count": null,
      "metadata": {
        "colab": {
          "base_uri": "https://localhost:8080/",
          "height": 460
        },
        "id": "OFe6AA80LSoG",
        "outputId": "a48c5ad3-4e6c-44c4-dfde-dee9f08db2f0"
      },
      "outputs": [
        {
          "name": "stdout",
          "output_type": "stream",
          "text": [
            "Filtered data shape: (605, 4097)\n",
            "\n"
          ]
        },
        {
          "data": {
            "text/html": [
              "\n",
              "  <div id=\"df-e12bdd7c-7879-4047-9fc5-c954ae954ced\" class=\"colab-df-container\">\n",
              "    <div>\n",
              "<style scoped>\n",
              "    .dataframe tbody tr th:only-of-type {\n",
              "        vertical-align: middle;\n",
              "    }\n",
              "\n",
              "    .dataframe tbody tr th {\n",
              "        vertical-align: top;\n",
              "    }\n",
              "\n",
              "    .dataframe thead th {\n",
              "        text-align: right;\n",
              "    }\n",
              "</style>\n",
              "<table border=\"1\" class=\"dataframe\">\n",
              "  <thead>\n",
              "    <tr style=\"text-align: right;\">\n",
              "      <th></th>\n",
              "      <th>0</th>\n",
              "      <th>1</th>\n",
              "      <th>2</th>\n",
              "      <th>3</th>\n",
              "      <th>4</th>\n",
              "      <th>5</th>\n",
              "      <th>6</th>\n",
              "      <th>7</th>\n",
              "      <th>8</th>\n",
              "      <th>9</th>\n",
              "      <th>...</th>\n",
              "      <th>4087</th>\n",
              "      <th>4088</th>\n",
              "      <th>4089</th>\n",
              "      <th>4090</th>\n",
              "      <th>4091</th>\n",
              "      <th>4092</th>\n",
              "      <th>4093</th>\n",
              "      <th>4094</th>\n",
              "      <th>4095</th>\n",
              "      <th>Label</th>\n",
              "    </tr>\n",
              "  </thead>\n",
              "  <tbody>\n",
              "    <tr>\n",
              "      <th>0</th>\n",
              "      <td>152</td>\n",
              "      <td>154</td>\n",
              "      <td>154</td>\n",
              "      <td>155</td>\n",
              "      <td>154</td>\n",
              "      <td>153</td>\n",
              "      <td>153</td>\n",
              "      <td>154</td>\n",
              "      <td>156</td>\n",
              "      <td>155</td>\n",
              "      <td>...</td>\n",
              "      <td>173</td>\n",
              "      <td>172</td>\n",
              "      <td>172</td>\n",
              "      <td>173</td>\n",
              "      <td>172</td>\n",
              "      <td>171</td>\n",
              "      <td>172</td>\n",
              "      <td>173</td>\n",
              "      <td>174</td>\n",
              "      <td>4</td>\n",
              "    </tr>\n",
              "    <tr>\n",
              "      <th>1</th>\n",
              "      <td>193</td>\n",
              "      <td>193</td>\n",
              "      <td>192</td>\n",
              "      <td>191</td>\n",
              "      <td>189</td>\n",
              "      <td>191</td>\n",
              "      <td>193</td>\n",
              "      <td>194</td>\n",
              "      <td>193</td>\n",
              "      <td>192</td>\n",
              "      <td>...</td>\n",
              "      <td>64</td>\n",
              "      <td>55</td>\n",
              "      <td>64</td>\n",
              "      <td>89</td>\n",
              "      <td>125</td>\n",
              "      <td>157</td>\n",
              "      <td>171</td>\n",
              "      <td>167</td>\n",
              "      <td>156</td>\n",
              "      <td>4</td>\n",
              "    </tr>\n",
              "    <tr>\n",
              "      <th>2</th>\n",
              "      <td>60</td>\n",
              "      <td>63</td>\n",
              "      <td>63</td>\n",
              "      <td>62</td>\n",
              "      <td>61</td>\n",
              "      <td>62</td>\n",
              "      <td>62</td>\n",
              "      <td>60</td>\n",
              "      <td>59</td>\n",
              "      <td>63</td>\n",
              "      <td>...</td>\n",
              "      <td>91</td>\n",
              "      <td>62</td>\n",
              "      <td>76</td>\n",
              "      <td>71</td>\n",
              "      <td>66</td>\n",
              "      <td>67</td>\n",
              "      <td>68</td>\n",
              "      <td>66</td>\n",
              "      <td>65</td>\n",
              "      <td>4</td>\n",
              "    </tr>\n",
              "    <tr>\n",
              "      <th>3</th>\n",
              "      <td>62</td>\n",
              "      <td>62</td>\n",
              "      <td>63</td>\n",
              "      <td>63</td>\n",
              "      <td>60</td>\n",
              "      <td>61</td>\n",
              "      <td>63</td>\n",
              "      <td>63</td>\n",
              "      <td>63</td>\n",
              "      <td>63</td>\n",
              "      <td>...</td>\n",
              "      <td>66</td>\n",
              "      <td>67</td>\n",
              "      <td>66</td>\n",
              "      <td>64</td>\n",
              "      <td>63</td>\n",
              "      <td>63</td>\n",
              "      <td>64</td>\n",
              "      <td>64</td>\n",
              "      <td>64</td>\n",
              "      <td>4</td>\n",
              "    </tr>\n",
              "    <tr>\n",
              "      <th>4</th>\n",
              "      <td>56</td>\n",
              "      <td>56</td>\n",
              "      <td>53</td>\n",
              "      <td>56</td>\n",
              "      <td>56</td>\n",
              "      <td>59</td>\n",
              "      <td>60</td>\n",
              "      <td>62</td>\n",
              "      <td>63</td>\n",
              "      <td>67</td>\n",
              "      <td>...</td>\n",
              "      <td>51</td>\n",
              "      <td>50</td>\n",
              "      <td>49</td>\n",
              "      <td>53</td>\n",
              "      <td>52</td>\n",
              "      <td>51</td>\n",
              "      <td>54</td>\n",
              "      <td>52</td>\n",
              "      <td>50</td>\n",
              "      <td>4</td>\n",
              "    </tr>\n",
              "    <tr>\n",
              "      <th>...</th>\n",
              "      <td>...</td>\n",
              "      <td>...</td>\n",
              "      <td>...</td>\n",
              "      <td>...</td>\n",
              "      <td>...</td>\n",
              "      <td>...</td>\n",
              "      <td>...</td>\n",
              "      <td>...</td>\n",
              "      <td>...</td>\n",
              "      <td>...</td>\n",
              "      <td>...</td>\n",
              "      <td>...</td>\n",
              "      <td>...</td>\n",
              "      <td>...</td>\n",
              "      <td>...</td>\n",
              "      <td>...</td>\n",
              "      <td>...</td>\n",
              "      <td>...</td>\n",
              "      <td>...</td>\n",
              "      <td>...</td>\n",
              "      <td>...</td>\n",
              "    </tr>\n",
              "    <tr>\n",
              "      <th>600</th>\n",
              "      <td>74</td>\n",
              "      <td>74</td>\n",
              "      <td>74</td>\n",
              "      <td>73</td>\n",
              "      <td>73</td>\n",
              "      <td>72</td>\n",
              "      <td>72</td>\n",
              "      <td>73</td>\n",
              "      <td>73</td>\n",
              "      <td>73</td>\n",
              "      <td>...</td>\n",
              "      <td>189</td>\n",
              "      <td>189</td>\n",
              "      <td>189</td>\n",
              "      <td>190</td>\n",
              "      <td>192</td>\n",
              "      <td>194</td>\n",
              "      <td>197</td>\n",
              "      <td>198</td>\n",
              "      <td>198</td>\n",
              "      <td>A</td>\n",
              "    </tr>\n",
              "    <tr>\n",
              "      <th>601</th>\n",
              "      <td>177</td>\n",
              "      <td>181</td>\n",
              "      <td>182</td>\n",
              "      <td>182</td>\n",
              "      <td>183</td>\n",
              "      <td>184</td>\n",
              "      <td>187</td>\n",
              "      <td>187</td>\n",
              "      <td>185</td>\n",
              "      <td>185</td>\n",
              "      <td>...</td>\n",
              "      <td>186</td>\n",
              "      <td>185</td>\n",
              "      <td>184</td>\n",
              "      <td>184</td>\n",
              "      <td>185</td>\n",
              "      <td>188</td>\n",
              "      <td>193</td>\n",
              "      <td>195</td>\n",
              "      <td>195</td>\n",
              "      <td>A</td>\n",
              "    </tr>\n",
              "    <tr>\n",
              "      <th>602</th>\n",
              "      <td>183</td>\n",
              "      <td>186</td>\n",
              "      <td>190</td>\n",
              "      <td>195</td>\n",
              "      <td>197</td>\n",
              "      <td>193</td>\n",
              "      <td>191</td>\n",
              "      <td>190</td>\n",
              "      <td>189</td>\n",
              "      <td>189</td>\n",
              "      <td>...</td>\n",
              "      <td>190</td>\n",
              "      <td>190</td>\n",
              "      <td>191</td>\n",
              "      <td>190</td>\n",
              "      <td>190</td>\n",
              "      <td>190</td>\n",
              "      <td>191</td>\n",
              "      <td>190</td>\n",
              "      <td>189</td>\n",
              "      <td>A</td>\n",
              "    </tr>\n",
              "    <tr>\n",
              "      <th>603</th>\n",
              "      <td>109</td>\n",
              "      <td>109</td>\n",
              "      <td>109</td>\n",
              "      <td>108</td>\n",
              "      <td>108</td>\n",
              "      <td>107</td>\n",
              "      <td>108</td>\n",
              "      <td>109</td>\n",
              "      <td>109</td>\n",
              "      <td>107</td>\n",
              "      <td>...</td>\n",
              "      <td>206</td>\n",
              "      <td>205</td>\n",
              "      <td>206</td>\n",
              "      <td>204</td>\n",
              "      <td>201</td>\n",
              "      <td>198</td>\n",
              "      <td>198</td>\n",
              "      <td>198</td>\n",
              "      <td>197</td>\n",
              "      <td>A</td>\n",
              "    </tr>\n",
              "    <tr>\n",
              "      <th>604</th>\n",
              "      <td>138</td>\n",
              "      <td>140</td>\n",
              "      <td>141</td>\n",
              "      <td>141</td>\n",
              "      <td>143</td>\n",
              "      <td>146</td>\n",
              "      <td>150</td>\n",
              "      <td>151</td>\n",
              "      <td>150</td>\n",
              "      <td>154</td>\n",
              "      <td>...</td>\n",
              "      <td>216</td>\n",
              "      <td>198</td>\n",
              "      <td>197</td>\n",
              "      <td>210</td>\n",
              "      <td>212</td>\n",
              "      <td>207</td>\n",
              "      <td>210</td>\n",
              "      <td>215</td>\n",
              "      <td>213</td>\n",
              "      <td>A</td>\n",
              "    </tr>\n",
              "  </tbody>\n",
              "</table>\n",
              "<p>605 rows × 4097 columns</p>\n",
              "</div>\n",
              "    <div class=\"colab-df-buttons\">\n",
              "\n",
              "  <div class=\"colab-df-container\">\n",
              "    <button class=\"colab-df-convert\" onclick=\"convertToInteractive('df-e12bdd7c-7879-4047-9fc5-c954ae954ced')\"\n",
              "            title=\"Convert this dataframe to an interactive table.\"\n",
              "            style=\"display:none;\">\n",
              "\n",
              "  <svg xmlns=\"http://www.w3.org/2000/svg\" height=\"24px\" viewBox=\"0 -960 960 960\">\n",
              "    <path d=\"M120-120v-720h720v720H120Zm60-500h600v-160H180v160Zm220 220h160v-160H400v160Zm0 220h160v-160H400v160ZM180-400h160v-160H180v160Zm440 0h160v-160H620v160ZM180-180h160v-160H180v160Zm440 0h160v-160H620v160Z\"/>\n",
              "  </svg>\n",
              "    </button>\n",
              "\n",
              "  <style>\n",
              "    .colab-df-container {\n",
              "      display:flex;\n",
              "      gap: 12px;\n",
              "    }\n",
              "\n",
              "    .colab-df-convert {\n",
              "      background-color: #E8F0FE;\n",
              "      border: none;\n",
              "      border-radius: 50%;\n",
              "      cursor: pointer;\n",
              "      display: none;\n",
              "      fill: #1967D2;\n",
              "      height: 32px;\n",
              "      padding: 0 0 0 0;\n",
              "      width: 32px;\n",
              "    }\n",
              "\n",
              "    .colab-df-convert:hover {\n",
              "      background-color: #E2EBFA;\n",
              "      box-shadow: 0px 1px 2px rgba(60, 64, 67, 0.3), 0px 1px 3px 1px rgba(60, 64, 67, 0.15);\n",
              "      fill: #174EA6;\n",
              "    }\n",
              "\n",
              "    .colab-df-buttons div {\n",
              "      margin-bottom: 4px;\n",
              "    }\n",
              "\n",
              "    [theme=dark] .colab-df-convert {\n",
              "      background-color: #3B4455;\n",
              "      fill: #D2E3FC;\n",
              "    }\n",
              "\n",
              "    [theme=dark] .colab-df-convert:hover {\n",
              "      background-color: #434B5C;\n",
              "      box-shadow: 0px 1px 3px 1px rgba(0, 0, 0, 0.15);\n",
              "      filter: drop-shadow(0px 1px 2px rgba(0, 0, 0, 0.3));\n",
              "      fill: #FFFFFF;\n",
              "    }\n",
              "  </style>\n",
              "\n",
              "    <script>\n",
              "      const buttonEl =\n",
              "        document.querySelector('#df-e12bdd7c-7879-4047-9fc5-c954ae954ced button.colab-df-convert');\n",
              "      buttonEl.style.display =\n",
              "        google.colab.kernel.accessAllowed ? 'block' : 'none';\n",
              "\n",
              "      async function convertToInteractive(key) {\n",
              "        const element = document.querySelector('#df-e12bdd7c-7879-4047-9fc5-c954ae954ced');\n",
              "        const dataTable =\n",
              "          await google.colab.kernel.invokeFunction('convertToInteractive',\n",
              "                                                    [key], {});\n",
              "        if (!dataTable) return;\n",
              "\n",
              "        const docLinkHtml = 'Like what you see? Visit the ' +\n",
              "          '<a target=\"_blank\" href=https://colab.research.google.com/notebooks/data_table.ipynb>data table notebook</a>'\n",
              "          + ' to learn more about interactive tables.';\n",
              "        element.innerHTML = '';\n",
              "        dataTable['output_type'] = 'display_data';\n",
              "        await google.colab.output.renderOutput(dataTable, element);\n",
              "        const docLink = document.createElement('div');\n",
              "        docLink.innerHTML = docLinkHtml;\n",
              "        element.appendChild(docLink);\n",
              "      }\n",
              "    </script>\n",
              "  </div>\n",
              "\n",
              "\n",
              "<div id=\"df-c2667759-b1ff-46f3-a3c2-acb81b03d65f\">\n",
              "  <button class=\"colab-df-quickchart\" onclick=\"quickchart('df-c2667759-b1ff-46f3-a3c2-acb81b03d65f')\"\n",
              "            title=\"Suggest charts.\"\n",
              "            style=\"display:none;\">\n",
              "\n",
              "<svg xmlns=\"http://www.w3.org/2000/svg\" height=\"24px\"viewBox=\"0 0 24 24\"\n",
              "     width=\"24px\">\n",
              "    <g>\n",
              "        <path d=\"M19 3H5c-1.1 0-2 .9-2 2v14c0 1.1.9 2 2 2h14c1.1 0 2-.9 2-2V5c0-1.1-.9-2-2-2zM9 17H7v-7h2v7zm4 0h-2V7h2v10zm4 0h-2v-4h2v4z\"/>\n",
              "    </g>\n",
              "</svg>\n",
              "  </button>\n",
              "\n",
              "<style>\n",
              "  .colab-df-quickchart {\n",
              "      --bg-color: #E8F0FE;\n",
              "      --fill-color: #1967D2;\n",
              "      --hover-bg-color: #E2EBFA;\n",
              "      --hover-fill-color: #174EA6;\n",
              "      --disabled-fill-color: #AAA;\n",
              "      --disabled-bg-color: #DDD;\n",
              "  }\n",
              "\n",
              "  [theme=dark] .colab-df-quickchart {\n",
              "      --bg-color: #3B4455;\n",
              "      --fill-color: #D2E3FC;\n",
              "      --hover-bg-color: #434B5C;\n",
              "      --hover-fill-color: #FFFFFF;\n",
              "      --disabled-bg-color: #3B4455;\n",
              "      --disabled-fill-color: #666;\n",
              "  }\n",
              "\n",
              "  .colab-df-quickchart {\n",
              "    background-color: var(--bg-color);\n",
              "    border: none;\n",
              "    border-radius: 50%;\n",
              "    cursor: pointer;\n",
              "    display: none;\n",
              "    fill: var(--fill-color);\n",
              "    height: 32px;\n",
              "    padding: 0;\n",
              "    width: 32px;\n",
              "  }\n",
              "\n",
              "  .colab-df-quickchart:hover {\n",
              "    background-color: var(--hover-bg-color);\n",
              "    box-shadow: 0 1px 2px rgba(60, 64, 67, 0.3), 0 1px 3px 1px rgba(60, 64, 67, 0.15);\n",
              "    fill: var(--button-hover-fill-color);\n",
              "  }\n",
              "\n",
              "  .colab-df-quickchart-complete:disabled,\n",
              "  .colab-df-quickchart-complete:disabled:hover {\n",
              "    background-color: var(--disabled-bg-color);\n",
              "    fill: var(--disabled-fill-color);\n",
              "    box-shadow: none;\n",
              "  }\n",
              "\n",
              "  .colab-df-spinner {\n",
              "    border: 2px solid var(--fill-color);\n",
              "    border-color: transparent;\n",
              "    border-bottom-color: var(--fill-color);\n",
              "    animation:\n",
              "      spin 1s steps(1) infinite;\n",
              "  }\n",
              "\n",
              "  @keyframes spin {\n",
              "    0% {\n",
              "      border-color: transparent;\n",
              "      border-bottom-color: var(--fill-color);\n",
              "      border-left-color: var(--fill-color);\n",
              "    }\n",
              "    20% {\n",
              "      border-color: transparent;\n",
              "      border-left-color: var(--fill-color);\n",
              "      border-top-color: var(--fill-color);\n",
              "    }\n",
              "    30% {\n",
              "      border-color: transparent;\n",
              "      border-left-color: var(--fill-color);\n",
              "      border-top-color: var(--fill-color);\n",
              "      border-right-color: var(--fill-color);\n",
              "    }\n",
              "    40% {\n",
              "      border-color: transparent;\n",
              "      border-right-color: var(--fill-color);\n",
              "      border-top-color: var(--fill-color);\n",
              "    }\n",
              "    60% {\n",
              "      border-color: transparent;\n",
              "      border-right-color: var(--fill-color);\n",
              "    }\n",
              "    80% {\n",
              "      border-color: transparent;\n",
              "      border-right-color: var(--fill-color);\n",
              "      border-bottom-color: var(--fill-color);\n",
              "    }\n",
              "    90% {\n",
              "      border-color: transparent;\n",
              "      border-bottom-color: var(--fill-color);\n",
              "    }\n",
              "  }\n",
              "</style>\n",
              "\n",
              "  <script>\n",
              "    async function quickchart(key) {\n",
              "      const quickchartButtonEl =\n",
              "        document.querySelector('#' + key + ' button');\n",
              "      quickchartButtonEl.disabled = true;  // To prevent multiple clicks.\n",
              "      quickchartButtonEl.classList.add('colab-df-spinner');\n",
              "      try {\n",
              "        const charts = await google.colab.kernel.invokeFunction(\n",
              "            'suggestCharts', [key], {});\n",
              "      } catch (error) {\n",
              "        console.error('Error during call to suggestCharts:', error);\n",
              "      }\n",
              "      quickchartButtonEl.classList.remove('colab-df-spinner');\n",
              "      quickchartButtonEl.classList.add('colab-df-quickchart-complete');\n",
              "    }\n",
              "    (() => {\n",
              "      let quickchartButtonEl =\n",
              "        document.querySelector('#df-c2667759-b1ff-46f3-a3c2-acb81b03d65f button');\n",
              "      quickchartButtonEl.style.display =\n",
              "        google.colab.kernel.accessAllowed ? 'block' : 'none';\n",
              "    })();\n",
              "  </script>\n",
              "</div>\n",
              "    </div>\n",
              "  </div>\n"
            ],
            "text/plain": [
              "       0    1    2    3    4    5    6    7    8    9  ... 4087 4088 4089  \\\n",
              "0    152  154  154  155  154  153  153  154  156  155  ...  173  172  172   \n",
              "1    193  193  192  191  189  191  193  194  193  192  ...   64   55   64   \n",
              "2     60   63   63   62   61   62   62   60   59   63  ...   91   62   76   \n",
              "3     62   62   63   63   60   61   63   63   63   63  ...   66   67   66   \n",
              "4     56   56   53   56   56   59   60   62   63   67  ...   51   50   49   \n",
              "..   ...  ...  ...  ...  ...  ...  ...  ...  ...  ...  ...  ...  ...  ...   \n",
              "600   74   74   74   73   73   72   72   73   73   73  ...  189  189  189   \n",
              "601  177  181  182  182  183  184  187  187  185  185  ...  186  185  184   \n",
              "602  183  186  190  195  197  193  191  190  189  189  ...  190  190  191   \n",
              "603  109  109  109  108  108  107  108  109  109  107  ...  206  205  206   \n",
              "604  138  140  141  141  143  146  150  151  150  154  ...  216  198  197   \n",
              "\n",
              "    4090 4091 4092 4093 4094 4095 Label  \n",
              "0    173  172  171  172  173  174     4  \n",
              "1     89  125  157  171  167  156     4  \n",
              "2     71   66   67   68   66   65     4  \n",
              "3     64   63   63   64   64   64     4  \n",
              "4     53   52   51   54   52   50     4  \n",
              "..   ...  ...  ...  ...  ...  ...   ...  \n",
              "600  190  192  194  197  198  198     A  \n",
              "601  184  185  188  193  195  195     A  \n",
              "602  190  190  190  191  190  189     A  \n",
              "603  204  201  198  198  198  197     A  \n",
              "604  210  212  207  210  215  213     A  \n",
              "\n",
              "[605 rows x 4097 columns]"
            ]
          },
          "execution_count": 12,
          "metadata": {},
          "output_type": "execute_result"
        }
      ],
      "source": [
        "# Get the images with Label = A or 4 from data_with_labels (numpy array)\n",
        "filtered_data = data_with_labels[(data_with_labels[:, -1] == 'A') | (data_with_labels[:, -1] == '4')]\n",
        "\n",
        "# Print the shape of the filtered data\n",
        "print(f\"Filtered data shape: {filtered_data.shape}\\n\")\n",
        "\n",
        "# Convert the NumPy array to a Pandas DataFrame\n",
        "df = pd.DataFrame(filtered_data)\n",
        "df = df.rename(columns={df.columns[-1]: 'Label'})\n",
        "df"
      ]
    },
    {
      "cell_type": "markdown",
      "metadata": {
        "id": "e7x4jJAdeGbU"
      },
      "source": [
        "## is the Data Balanced?"
      ]
    },
    {
      "cell_type": "code",
      "execution_count": null,
      "metadata": {
        "colab": {
          "base_uri": "https://localhost:8080/",
          "height": 507
        },
        "id": "QwRB3FxWmowj",
        "outputId": "913fac18-b0d2-4f0d-8214-4607aa9f1372"
      },
      "outputs": [
        {
          "data": {
            "image/png": "[encoded data removed]",
            "text/plain": [
              "<Figure size 1000x500 with 2 Axes>"
            ]
          },
          "metadata": {},
          "output_type": "display_data"
        }
      ],
      "source": [
        "# Count the number of 'A' and '4' cases\n",
        "label_counts = np.unique(filtered_data[:, -1], return_counts=True)\n",
        "labels = label_counts[0]\n",
        "values = label_counts[1]\n",
        "\n",
        "# Create a figure with one row and two columns for side-by-side plots\n",
        "fig, axes = plt.subplots(1, 2, figsize=(10, 5))\n",
        "\n",
        "# Plot the bar chart on the first subplot (axes[0])\n",
        "axes[0].bar(labels, values, color=['lightblue', 'lightcoral'])\n",
        "for i, v in enumerate(values):\n",
        "    axes[0].text(i, v, str(v), ha='center', va='bottom', fontweight='bold', fontsize=12)\n",
        "\n",
        "axes[0].set_title('Counts of \"4\" and \"A\"')\n",
        "axes[0].set_xlabel('Labels')\n",
        "axes[0].set_ylabel('Count')\n",
        "\n",
        "# Create a pie chart on the second subplot (axes[1])\n",
        "axes[1].pie(values, labels=labels, autopct='%1.1f%%', startangle=90, explode=(0.1, 0), colors=['lightblue', 'lightcoral'],\n",
        "            wedgeprops={'edgecolor': 'black', 'linewidth': 1, 'antialiased': True})\n",
        "axes[1].set_title('Counts of \"4\" and \"A\"')\n",
        "axes[1].axis('equal')  # Equal aspect ratio ensures that pie is drawn as a circle.\n",
        "\n",
        "# Adjust the layout and display the plots\n",
        "plt.tight_layout()\n",
        "plt.show()\n"
      ]
    },
    {
      "cell_type": "markdown",
      "metadata": {
        "id": "w0nE6BmWp61k"
      },
      "source": [
        "## Getting X (feature matrix) and y (Label--> Target)\n"
      ]
    },
    {
      "cell_type": "code",
      "execution_count": null,
      "metadata": {
        "colab": {
          "base_uri": "https://localhost:8080/"
        },
        "id": "cQy1HODRhNb9",
        "outputId": "bc52f7b6-5674-4597-d12a-d360fa8ab086"
      },
      "outputs": [
        {
          "name": "stdout",
          "output_type": "stream",
          "text": [
            "X shape: (605, 4096)\n",
            "y shape: (605,)\n",
            "X dtype: <U21\n",
            "Y dtype: <U21\n"
          ]
        }
      ],
      "source": [
        "X = filtered_data[:, :-1]  # features\n",
        "y = filtered_data[:, -1]   # Labels\n",
        "\n",
        "# Print the shapes of X and y\n",
        "print(\"X shape:\", X.shape)\n",
        "print(\"y shape:\", y.shape)\n",
        "\n",
        "print(\"X dtype:\", X.dtype)\n",
        "print(\"Y dtype:\", y.dtype)\n"
      ]
    },
    {
      "cell_type": "markdown",
      "metadata": {
        "id": "s_oceQ3y0Pxv"
      },
      "source": [
        "##Splitting 60% Train, 20% validation , 20% Test\n",
        "#### A 60-20-20 split ratio, with 60% for training and 20% each for testing and validation, is ideal for small datasets. It balances effective model learning with rigorous evaluation, ensuring that the model captures patterns, performs well on unseen data, and can be fine-tuned effectively."
      ]
    },
    {
      "cell_type": "markdown",
      "metadata": {
        "id": "VjmQs3C05JD9"
      },
      "source": [
        "###Use train_test_split (Selecting images at random)"
      ]
    },
    {
      "cell_type": "code",
      "execution_count": null,
      "metadata": {
        "colab": {
          "base_uri": "https://localhost:8080/"
        },
        "id": "jIcSn8HU42SW",
        "outputId": "2d0f6296-8127-45c7-e6c5-d75a3ad51bac"
      },
      "outputs": [
        {
          "name": "stdout",
          "output_type": "stream",
          "text": [
            "Transformed labels: [1 1 1 1 1 1 0 1 1 1 1 1 1 1 1 1 0 1 1 1 0 1 1 1 1 1 1 1 1 1 1 1 1 1 1 1 1\n",
            " 1 1 1 1 1 0 1 1 0 1 1 1 1 1 1 1 1 1 1 1 1 1 1 1 1 1 1 1 1 1 1 1 1 1 1 0 1\n",
            " 1 1 1 1 1 1 1 1 1 1 1 1 0 1 1 1 1 1 1 1 1 1 1 1 0 1 1 1 1 1 1 1 1 1 1 1 1\n",
            " 1 1 1 1 1 1 1 1 1 1 1 0 1 1 1 1 1 1 1 1 1 1 1 1 1 1 1 1 1 1 0 1 1 1 1 1 1\n",
            " 1 0 0 1 1 1 1 1 1 0 1 1 1 1 1 0 1 1 1 1 1 1 1 1 1 1 1 1 1 1 0 1 1 1 1 1 1\n",
            " 1 1 1 1 1 1 1 1 1 1 1 1 1 1 1 1 1 1 1 1 1 1 1 1 1 1 1 1 1 1 1 1 1 0 1 0 1\n",
            " 1 1 1 1 1 1 1 1 1 0 1 1 1 1 0 1 1 1 1 1 1 1 1 1 1 1 1 1 0 1 0 1 1 1 1 1 1\n",
            " 0 1 1 1 1 1 1 1 1 1 1 1 1 1 0 0 1 1 1 0 1 1 1 0 1 1 1 1 1 1 0 1 1 1 1 0 1\n",
            " 1 1 1 1 1 1 1 1 1 1 1 1 1 1 1 1 1 1 1 1 1 1 1 1 1 1 1 1 1 1 1 1 1 1 1 0 1\n",
            " 0 1 1 1 1 1 1 1 1 1 1 1 1 1 1 1 0 1 1 1 1 1 1 1 1 1 1 1 1 1 1 1 1 1 1 1 1\n",
            " 1 1 1 1 1 1 1 1 1 1 1 1 1 1 1 1 1 1 1 1 1 1 1 1 1 1 1 1 1 1 1 1 1 1 1 1 1\n",
            " 1 1 1 1 1 1 1 1 1 1 1 1 1 1 1 1 1 1 1 1 1 1 1 1 1 1 1 1 1 1 1 1 0 1 1 1 1\n",
            " 1 1 0 1 1 1 1 1 1 1 1 0 0 0 1 1 1 1 1 1 1 1 1 1 1 1 1 1 1 1 0 1 1 1 1 1 1\n",
            " 1 1 1 0 1 1 1 1 1 1 1 1 1 1 1 1 1 1 1 1 1 1 0 1 1 1 1 1 0 1 1 1 1 1 1 1 1\n",
            " 1 1 1 1 1 1 1 1 0 1 0 1 1 1 1 1 1 1 1 1 1 1 1 1 1 1 1 1 1 0 1 1 1 0 1 1 1\n",
            " 1 1 1 1 1 0 1 1 1 1 1 1 1 1 1 1 1 1 1 1 1 1 1 1 0 1 1 1 1 1 1 1 1 1 1 1 1\n",
            " 1 1 1 1 1 1 1 0 1 1 1 1 1]\n",
            "\n",
            "X dtype: float32\n",
            "Y dtype: int64\n"
          ]
        }
      ],
      "source": [
        "# Combine X and y into a single array\n",
        "combined_data = np.column_stack((X, y))\n",
        "\n",
        "# Shuffle the combined data\n",
        "np.random.shuffle(combined_data)\n",
        "\n",
        "# Split the shuffled data back into X and y\n",
        "shuffled_X = combined_data[:, :-1]\n",
        "shuffled_y = combined_data[:, -1]\n",
        "\n",
        "shuffled_X,shuffled_y=to_numeric (shuffled_X,shuffled_y)"
      ]
    },
    {
      "cell_type": "code",
      "execution_count": null,
      "metadata": {
        "colab": {
          "base_uri": "https://localhost:8080/"
        },
        "id": "Nm1NYVJrr6qE",
        "outputId": "4ff1712c-5b50-4aba-e42a-30cf2ee6ca95"
      },
      "outputs": [
        {
          "name": "stdout",
          "output_type": "stream",
          "text": [
            "Number of training samples: 363\n",
            "Number of validation samples: 121\n",
            "Number of test samples: 121\n"
          ]
        }
      ],
      "source": [
        "X_train_random, X_temp_random, y_train_random, y_temp_random= train_test_split(shuffled_X, shuffled_y, test_size=0.4, random_state=42)\n",
        "X_val_random, X_test_random, y_val_random, y_test_random = train_test_split(X_temp_random, y_temp_random, test_size=0.5, random_state=42)\n",
        "\n",
        "# Print the number of samples in each split\n",
        "print(\"Number of training samples:\", len(X_train_random))\n",
        "print(\"Number of validation samples:\", len(X_val_random))\n",
        "print(\"Number of test samples:\", len(X_test_random))"
      ]
    },
    {
      "cell_type": "code",
      "execution_count": null,
      "metadata": {
        "colab": {
          "base_uri": "https://localhost:8080/"
        },
        "id": "gFNGfJ68C04h",
        "outputId": "4ce02ae4-3bf2-4790-bbcd-f61f32f5215e"
      },
      "outputs": [
        {
          "name": "stderr",
          "output_type": "stream",
          "text": [
            "/usr/local/lib/python3.10/dist-packages/sklearn/svm/_base.py:1244: ConvergenceWarning: Liblinear failed to converge, increase the number of iterations.\n",
            "  warnings.warn(\n"
          ]
        }
      ],
      "source": [
        "y_train_pred_random,y_test_pred_random=LogisticRegression_Model (X_train_random, y_train_random,X_test_random)"
      ]
    },
    {
      "cell_type": "markdown",
      "metadata": {
        "id": "pjXdycVSSUW1"
      },
      "source": [
        "#### Evaluation on training"
      ]
    },
    {
      "cell_type": "code",
      "execution_count": null,
      "metadata": {
        "colab": {
          "base_uri": "https://localhost:8080/",
          "height": 1000
        },
        "id": "GK0UpLbLSUW2",
        "outputId": "ccdbc513-4f1b-496c-8bc9-0d23ca2b1347"
      },
      "outputs": [
        {
          "name": "stdout",
          "output_type": "stream",
          "text": [
            "\n",
            "Training Data Metrics:\n",
            "\n",
            "Confusion Matrix:\n",
            "True Positives (TP): 337\n",
            "True Negatives (TN): 26\n",
            "False Positives (FP): 0\n",
            "False Negatives (FN): 0\n",
            "\n",
            "\n",
            "Accuracy for Training data: 100.00%\n",
            "Recall for Training data: 100.00%\n",
            "Precision for Training data: 100.00% \n",
            "\n",
            "\n"
          ]
        },
        {
          "data": {
            "image/png": "[encoded data removed]",
            "text/plain": [
              "<Figure size 400x300 with 2 Axes>"
            ]
          },
          "metadata": {},
          "output_type": "display_data"
        },
        {
          "name": "stdout",
          "output_type": "stream",
          "text": [
            "\n",
            "\n"
          ]
        },
        {
          "data": {
            "image/png": "[encoded data removed]",
            "text/plain": [
              "<Figure size 800x600 with 1 Axes>"
            ]
          },
          "metadata": {},
          "output_type": "display_data"
        }
      ],
      "source": [
        "Binary_Evalution(y_train_random, y_train_pred_random,'Training')"
      ]
    },
    {
      "cell_type": "markdown",
      "metadata": {
        "id": "rEtgI2rmSUW3"
      },
      "source": [
        "#### Evaluation on testing"
      ]
    },
    {
      "cell_type": "code",
      "execution_count": null,
      "metadata": {
        "colab": {
          "base_uri": "https://localhost:8080/",
          "height": 1000
        },
        "id": "7Nij_r2CSUW3",
        "outputId": "461ce59e-4713-4523-bd74-545d7f8be108"
      },
      "outputs": [
        {
          "name": "stdout",
          "output_type": "stream",
          "text": [
            "\n",
            "Testing Data Metrics:\n",
            "\n",
            "Confusion Matrix:\n",
            "True Positives (TP): 107\n",
            "True Negatives (TN): 3\n",
            "False Positives (FP): 7\n",
            "False Negatives (FN): 4\n",
            "\n",
            "\n",
            "Accuracy for Testing data: 90.91%\n",
            "Recall for Testing data: 96.40%\n",
            "Precision for Testing data: 93.86% \n",
            "\n",
            "\n"
          ]
        },
        {
          "data": {
            "image/png": "[encoded data removed]",
            "text/plain": [
              "<Figure size 400x300 with 2 Axes>"
            ]
          },
          "metadata": {},
          "output_type": "display_data"
        },
        {
          "name": "stdout",
          "output_type": "stream",
          "text": [
            "\n",
            "\n"
          ]
        },
        {
          "data": {
            "image/png": "[encoded data removed]",
            "text/plain": [
              "<Figure size 800x600 with 1 Axes>"
            ]
          },
          "metadata": {},
          "output_type": "display_data"
        }
      ],
      "source": [
        "Binary_Evalution(y_test_random, y_test_pred_random,'Testing')"
      ]
    },
    {
      "cell_type": "markdown",
      "metadata": {
        "id": "0GjRJ6mDqZtn"
      },
      "source": [
        "###Use train_test_split(Stratified Sampling)\n",
        "####When dealing with imbalanced data containing different classes, such as 'A' and '4', it's important to use stratified sampling during the train-test split. Stratified sampling ensures that both the training and testing sets have a class distribution that closely matches the overall distribution in the dataset. This helps prevent biases in the machine learning model, ensures fair evaluation, and improves generalization to new data. In my specific case, where I have significantly more 'A' samples than '4' samples, using stratified sampling is crucial to achieving accurate and reliable results in the machine learning tasks.\n",
        "\n",
        "\n",
        "\n",
        "\n",
        "\n"
      ]
    },
    {
      "cell_type": "code",
      "execution_count": null,
      "metadata": {
        "colab": {
          "base_uri": "https://localhost:8080/"
        },
        "id": "92WS2fIxvpjY",
        "outputId": "7662ac67-b460-404c-ff32-822a94c8c918"
      },
      "outputs": [
        {
          "name": "stdout",
          "output_type": "stream",
          "text": [
            "Transformed labels: [0 0 0 0 0 0 0 0 0 0 0 0 0 0 0 0 0 0 0 0 0 0 0 0 0 0 0 0 0 0 0 0 0 0 0 0 0\n",
            " 0 0 0 0 0 0 0 0 0 0 1 1 1 1 1 1 1 1 1 1 1 1 1 1 1 1 1 1 1 1 1 1 1 1 1 1 1\n",
            " 1 1 1 1 1 1 1 1 1 1 1 1 1 1 1 1 1 1 1 1 1 1 1 1 1 1 1 1 1 1 1 1 1 1 1 1 1\n",
            " 1 1 1 1 1 1 1 1 1 1 1 1 1 1 1 1 1 1 1 1 1 1 1 1 1 1 1 1 1 1 1 1 1 1 1 1 1\n",
            " 1 1 1 1 1 1 1 1 1 1 1 1 1 1 1 1 1 1 1 1 1 1 1 1 1 1 1 1 1 1 1 1 1 1 1 1 1\n",
            " 1 1 1 1 1 1 1 1 1 1 1 1 1 1 1 1 1 1 1 1 1 1 1 1 1 1 1 1 1 1 1 1 1 1 1 1 1\n",
            " 1 1 1 1 1 1 1 1 1 1 1 1 1 1 1 1 1 1 1 1 1 1 1 1 1 1 1 1 1 1 1 1 1 1 1 1 1\n",
            " 1 1 1 1 1 1 1 1 1 1 1 1 1 1 1 1 1 1 1 1 1 1 1 1 1 1 1 1 1 1 1 1 1 1 1 1 1\n",
            " 1 1 1 1 1 1 1 1 1 1 1 1 1 1 1 1 1 1 1 1 1 1 1 1 1 1 1 1 1 1 1 1 1 1 1 1 1\n",
            " 1 1 1 1 1 1 1 1 1 1 1 1 1 1 1 1 1 1 1 1 1 1 1 1 1 1 1 1 1 1 1 1 1 1 1 1 1\n",
            " 1 1 1 1 1 1 1 1 1 1 1 1 1 1 1 1 1 1 1 1 1 1 1 1 1 1 1 1 1 1 1 1 1 1 1 1 1\n",
            " 1 1 1 1 1 1 1 1 1 1 1 1 1 1 1 1 1 1 1 1 1 1 1 1 1 1 1 1 1 1 1 1 1 1 1 1 1\n",
            " 1 1 1 1 1 1 1 1 1 1 1 1 1 1 1 1 1 1 1 1 1 1 1 1 1 1 1 1 1 1 1 1 1 1 1 1 1\n",
            " 1 1 1 1 1 1 1 1 1 1 1 1 1 1 1 1 1 1 1 1 1 1 1 1 1 1 1 1 1 1 1 1 1 1 1 1 1\n",
            " 1 1 1 1 1 1 1 1 1 1 1 1 1 1 1 1 1 1 1 1 1 1 1 1 1 1 1 1 1 1 1 1 1 1 1 1 1\n",
            " 1 1 1 1 1 1 1 1 1 1 1 1 1 1 1 1 1 1 1 1 1 1 1 1 1 1 1 1 1 1 1 1 1 1 1 1 1\n",
            " 1 1 1 1 1 1 1 1 1 1 1 1 1]\n",
            "\n",
            "X dtype: float32\n",
            "Y dtype: int64\n"
          ]
        }
      ],
      "source": [
        "X,y_encoded=to_numeric (X,y)"
      ]
    },
    {
      "cell_type": "code",
      "execution_count": null,
      "metadata": {
        "colab": {
          "base_uri": "https://localhost:8080/"
        },
        "id": "8ly8kqidlkva",
        "outputId": "e26d651b-218b-465e-8a10-381e70cab29a"
      },
      "outputs": [
        {
          "name": "stdout",
          "output_type": "stream",
          "text": [
            "Number of training samples: 363\n",
            "Number of validation samples: 121\n",
            "Number of test samples: 121\n"
          ]
        }
      ],
      "source": [
        "X_train, X_temp, y_train, y_temp = train_test_split(X, y_encoded, test_size=0.4, random_state=42, stratify=y)\n",
        "X_val, X_test, y_val, y_test = train_test_split(X_temp, y_temp, test_size=0.5, random_state=42, stratify=y_temp)\n",
        "\n",
        "# Print the number of samples in each split\n",
        "print(\"Number of training samples:\", len(X_train))\n",
        "print(\"Number of validation samples:\", len(X_val))\n",
        "print(\"Number of test samples:\", len(X_test))"
      ]
    },
    {
      "cell_type": "code",
      "execution_count": null,
      "metadata": {
        "colab": {
          "base_uri": "https://localhost:8080/"
        },
        "id": "4NVN7FLFCjbf",
        "outputId": "9a91715e-4462-4c79-ac90-6bbd28c3cb87"
      },
      "outputs": [
        {
          "name": "stderr",
          "output_type": "stream",
          "text": [
            "/usr/local/lib/python3.10/dist-packages/sklearn/svm/_base.py:1244: ConvergenceWarning: Liblinear failed to converge, increase the number of iterations.\n",
            "  warnings.warn(\n"
          ]
        }
      ],
      "source": [
        "y_train_pred,y_test_pred=LogisticRegression_Model (X_train, y_train,X_test)"
      ]
    },
    {
      "cell_type": "markdown",
      "metadata": {
        "id": "I_ShC7tiHGzA"
      },
      "source": [
        "#### Evaluation on training"
      ]
    },
    {
      "cell_type": "code",
      "execution_count": null,
      "metadata": {
        "colab": {
          "base_uri": "https://localhost:8080/",
          "height": 1000
        },
        "id": "aqCbgb8kG2tW",
        "outputId": "9f399b33-4dc0-4c88-f6a8-7f456d046cd0"
      },
      "outputs": [
        {
          "name": "stdout",
          "output_type": "stream",
          "text": [
            "\n",
            "Training Data Metrics:\n",
            "\n",
            "Confusion Matrix:\n",
            "True Positives (TP): 335\n",
            "True Negatives (TN): 25\n",
            "False Positives (FP): 3\n",
            "False Negatives (FN): 0\n",
            "\n",
            "\n",
            "Accuracy for Training data: 99.17%\n",
            "Recall for Training data: 100.00%\n",
            "Precision for Training data: 99.11% \n",
            "\n",
            "\n"
          ]
        },
        {
          "data": {
            "image/png": "[encoded data removed]",
            "text/plain": [
              "<Figure size 400x300 with 2 Axes>"
            ]
          },
          "metadata": {},
          "output_type": "display_data"
        },
        {
          "name": "stdout",
          "output_type": "stream",
          "text": [
            "\n",
            "\n"
          ]
        },
        {
          "data": {
            "image/png": "[encoded data removed]",
            "text/plain": [
              "<Figure size 800x600 with 1 Axes>"
            ]
          },
          "metadata": {},
          "output_type": "display_data"
        }
      ],
      "source": [
        "Binary_Evalution(y_train, y_train_pred,'Training')"
      ]
    },
    {
      "cell_type": "markdown",
      "metadata": {
        "id": "V_iobiYsHVQT"
      },
      "source": [
        "#### Evaluation on testing"
      ]
    },
    {
      "cell_type": "code",
      "execution_count": null,
      "metadata": {
        "colab": {
          "base_uri": "https://localhost:8080/",
          "height": 1000
        },
        "id": "KNLYkUsoHDsD",
        "outputId": "a08675c7-d5d6-40ff-9c17-211507445392"
      },
      "outputs": [
        {
          "name": "stdout",
          "output_type": "stream",
          "text": [
            "\n",
            "Testing Data Metrics:\n",
            "\n",
            "Confusion Matrix:\n",
            "True Positives (TP): 106\n",
            "True Negatives (TN): 4\n",
            "False Positives (FP): 6\n",
            "False Negatives (FN): 5\n",
            "\n",
            "\n",
            "Accuracy for Testing data: 90.91%\n",
            "Recall for Testing data: 95.50%\n",
            "Precision for Testing data: 94.64% \n",
            "\n",
            "\n"
          ]
        },
        {
          "data": {
            "image/png": "[encoded data removed]",
            "text/plain": [
              "<Figure size 400x300 with 2 Axes>"
            ]
          },
          "metadata": {},
          "output_type": "display_data"
        },
        {
          "name": "stdout",
          "output_type": "stream",
          "text": [
            "\n",
            "\n"
          ]
        },
        {
          "data": {
            "image/png": "[encoded data removed]",
            "text/plain": [
              "<Figure size 800x600 with 1 Axes>"
            ]
          },
          "metadata": {},
          "output_type": "display_data"
        }
      ],
      "source": [
        "Binary_Evalution(y_test, y_test_pred,'Testing')"
      ]
    },
    {
      "cell_type": "markdown",
      "metadata": {
        "id": "DsRM3Qshtdbz"
      },
      "source": [
        "#Result Explanation\n",
        "####When shuffling the data without using stratified sampling, there's a risk of creating training and testing sets with significantly imbalanced class distributions. This randomness can lead to variable model performance, where the model may perform exceptionally well on the training data but poorly on the testing data, especially if it overfits to the majority class.\n",
        "\n",
        "####On the other hand, when using stratified sampling without shuffling, the class balance is maintained in both the training and testing sets. This approach ensures that each class is represented proportionally in both sets, leading to more consistent and reliable model performance metrics. The model trained with stratified sampling is likely to generalize better to unseen data, resulting in more stable and consistent results."
      ]
    },
    {
      "cell_type": "markdown",
      "metadata": {
        "id": "yYMKRQYmUAJi"
      },
      "source": [
        "#1.3 Multiclass Classifier\n",
        "\n"
      ]
    },
    {
      "cell_type": "code",
      "execution_count": null,
      "metadata": {
        "id": "q0egUeiykdok"
      },
      "outputs": [],
      "source": [
        "# Define the target classes\n",
        "target_classes = ['4', 'A', 'H', 'u']"
      ]
    },
    {
      "cell_type": "markdown",
      "metadata": {
        "id": "K72hxD_yBV4i"
      },
      "source": [
        "##Helper Funtions"
      ]
    },
    {
      "cell_type": "markdown",
      "metadata": {
        "id": "Di6qMZgIBV4k"
      },
      "source": [
        "### Fuction to run Multi classfier model given any x_train,y_train_x_test\n",
        "### return y_train_pred,y_test_pred"
      ]
    },
    {
      "cell_type": "code",
      "execution_count": null,
      "metadata": {
        "id": "TFjcWupfBV4l"
      },
      "outputs": [],
      "source": [
        "def MLC_Model(X_train, y_train, X_test):\n",
        "\n",
        "    mlc = LogisticRegression(multi_class='ovr')\n",
        "    mlc.fit(X_train, y_train)\n",
        "\n",
        "    y_train_pred = mlc.predict(X_train)  # Predict labels for the training data\n",
        "    y_test_pred = mlc.predict(X_test)    # Predict labels for the testing data\n",
        "\n",
        "    return y_train_pred, y_test_pred"
      ]
    },
    {
      "cell_type": "markdown",
      "metadata": {
        "id": "LUWKeYGLBV4l"
      },
      "source": [
        "### Evalution Function that calcualte confusion matrix to calualte accuracy, average recall precision and F1 score given actual y , the predict y and text(Train/Test).\n",
        "### Return accuracy, average recall precision and F1 score"
      ]
    },
    {
      "cell_type": "code",
      "execution_count": null,
      "metadata": {
        "id": "74t4MXYPj1K0"
      },
      "outputs": [],
      "source": [
        "def MLC_Evalution(y, y_pred,text):\n",
        "  TP = TN = FP = FN= 0\n",
        "\n",
        "  # Calculate confusion matrices  manually\n",
        "  cm = np.zeros((len(target_classes), len(target_classes)), dtype=int)\n",
        "\n",
        "  for i in range(len(y)):\n",
        "    cm[y[i]][y_pred[i]] += 1\n",
        "\n",
        "  # Calculate accuracy\n",
        "  accuracy = np.sum(np.diag(cm)) / np.sum(cm)\n",
        "\n",
        "  # Calculate average recall, precision, and F1 score\n",
        "  recall = np.mean(np.diag(cm) / np.sum(cm, axis=1))\n",
        "\n",
        "  precision = np.mean(np.diag(cm) / np.sum(cm, axis=0))\n",
        "\n",
        "  f1 = 2 * (precision * recall) / (precision +recall)\n",
        "\n",
        "  # Print metrics\n",
        "  print(f\"{text} Set Metrics:\")\n",
        "  print(f\"Accuracy: {accuracy*100:.2f}\")\n",
        "  print(f\"Average Recall: {recall*100:.2f}\")\n",
        "  print(f\"Average Precision: {precision*100:.2f}\")\n",
        "  print(f\"F1 Score: {f1*100:.2f}\")\n",
        "\n",
        "  # Confusion Matrix\n",
        "  cm = confusion_matrix(y, y_pred)\n",
        "  plt.figure(figsize=(4, 3))\n",
        "  sns.heatmap(cm, annot=True, fmt='d', cmap='Pastel2', xticklabels=target_classes, yticklabels=target_classes)\n",
        "  plt.title(f\"{text} Confusion Matrix\")\n",
        "  plt.xlabel('Predicted Labels')\n",
        "  plt.ylabel('Actual Labels')\n",
        "\n",
        "  plt.tight_layout()\n",
        "  plt.show()\n",
        "  print('\\n')\n"
      ]
    },
    {
      "cell_type": "markdown",
      "metadata": {
        "id": "ofzHHMd4NdW5"
      },
      "source": [
        "## is the Data Balanced?"
      ]
    },
    {
      "cell_type": "code",
      "execution_count": null,
      "metadata": {
        "colab": {
          "base_uri": "https://localhost:8080/",
          "height": 507
        },
        "id": "jT5oW6-BMLCU",
        "outputId": "af2ed6c9-0da7-4f4d-a24f-7892d87734b1"
      },
      "outputs": [
        {
          "data": {
            "image/png": "[encoded data removed]",
            "text/plain": [
              "<Figure size 1000x500 with 2 Axes>"
            ]
          },
          "metadata": {},
          "output_type": "display_data"
        }
      ],
      "source": [
        "# Count the number of occurrences for each target class\n",
        "label_counts = np.unique(data_with_labels[:, -1], return_counts=True)\n",
        "labels = label_counts[0]\n",
        "values = label_counts[1]\n",
        "\n",
        "# Initialize filtered_values with zeros\n",
        "filtered_values = [0] * len(target_classes)\n",
        "\n",
        "# Iterate through target_classes and update filtered_values if the class exists\n",
        "for i, cls in enumerate(target_classes):\n",
        "    if cls in labels:\n",
        "        index = np.where(labels == cls)[0][0]\n",
        "        filtered_values[i] = values[index]\n",
        "\n",
        "# Create a figure with one row and two columns for side-by-side plots\n",
        "fig, axes = plt.subplots(1, 2, figsize=(10, 5))\n",
        "\n",
        "# Plot the bar chart on the first subplot (axes[0])\n",
        "axes[0].bar(target_classes, filtered_values, color=['lightblue', 'lightcoral', 'lightgreen', 'lightgrey'])\n",
        "for i, v in enumerate(filtered_values):\n",
        "    axes[0].text(i, v, str(v), ha='center', va='bottom', fontweight='bold', fontsize=12)\n",
        "\n",
        "axes[0].set_title('Counts of Classes')\n",
        "axes[0].set_xlabel('Classes')\n",
        "axes[0].set_ylabel('Count')\n",
        "\n",
        "# Create a pie chart on the second subplot (axes[1])\n",
        "axes[1].pie(filtered_values, labels=target_classes, autopct='%1.1f%%', startangle=90,\n",
        "            colors=['lightblue', 'lightcoral', 'lightgreen', 'lightgrey'],\n",
        "            wedgeprops={'edgecolor': 'black', 'linewidth': 1, 'antialiased': True})\n",
        "axes[1].set_title('Counts of Classes')\n",
        "axes[1].axis('equal')  # Equal aspect ratio ensures that pie is drawn as a circle.\n",
        "\n",
        "# Adjust the layout and display the plots\n",
        "plt.tight_layout()\n",
        "plt.show()\n"
      ]
    },
    {
      "cell_type": "markdown",
      "metadata": {
        "id": "PcBPeYPlCD0R"
      },
      "source": [
        "## Getting X (feature matrix) and y (Label--> Target)\n"
      ]
    },
    {
      "cell_type": "code",
      "execution_count": null,
      "metadata": {
        "colab": {
          "base_uri": "https://localhost:8080/"
        },
        "id": "u_CR-1EBJO3G",
        "outputId": "2d4fd840-f7e9-4b43-a0fa-ab0e910ddac1"
      },
      "outputs": [
        {
          "name": "stdout",
          "output_type": "stream",
          "text": [
            "X shape: (839, 4096)\n",
            "y shape: (839,)\n",
            "X dtype: <U21\n",
            "Y dtype: <U21\n"
          ]
        }
      ],
      "source": [
        "X_MLC = data_with_labels[:, :-1]  # features\n",
        "y_MLC = data_with_labels[:, -1]   # Labels\n",
        "\n",
        "# Print the shapes of X and y\n",
        "print(\"X shape:\", X_MLC.shape)\n",
        "print(\"y shape:\", y_MLC.shape)\n",
        "\n",
        "print(\"X dtype:\", X_MLC.dtype)\n",
        "print(\"Y dtype:\", y_MLC.dtype)\n"
      ]
    },
    {
      "cell_type": "markdown",
      "metadata": {
        "id": "1sGe484e5TlZ"
      },
      "source": [
        "##Splitting 60% Train, 20% validation , 20% Test\n",
        "For the same reason above\n"
      ]
    },
    {
      "cell_type": "markdown",
      "metadata": {
        "id": "64LSNM0a5y88"
      },
      "source": [
        "###Use train_test_split (Selecting images at random)"
      ]
    },
    {
      "cell_type": "code",
      "execution_count": null,
      "metadata": {
        "colab": {
          "base_uri": "https://localhost:8080/"
        },
        "id": "WewFV_b_5y8-",
        "outputId": "28d28e56-a835-4a47-dd4b-faf031f84bde"
      },
      "outputs": [
        {
          "name": "stdout",
          "output_type": "stream",
          "text": [
            "Transformed labels: [1 2 3 1 2 1 1 2 1 2 1 1 2 1 1 1 1 1 1 1 3 2 1 0 1 1 1 1 1 1 1 2 1 3 2 3 2\n",
            " 1 1 1 1 2 1 1 1 3 2 2 1 1 2 2 1 1 1 0 2 2 1 1 2 1 2 1 1 1 1 1 1 1 0 1 1 2\n",
            " 1 1 3 3 3 1 1 2 1 1 2 1 1 1 2 1 1 0 1 1 1 2 1 2 1 1 2 1 1 1 0 1 1 1 1 2 1\n",
            " 1 2 1 1 3 1 1 1 1 1 0 1 1 2 1 1 2 3 0 1 0 1 2 1 1 1 2 1 3 2 1 2 2 1 2 2 1\n",
            " 2 2 1 1 1 0 1 2 1 0 2 1 1 1 1 1 1 2 0 1 3 2 3 1 2 0 3 2 1 2 1 1 1 1 1 0 1\n",
            " 1 0 2 1 1 1 2 1 1 1 1 1 1 1 1 1 1 1 1 1 1 2 1 1 1 1 2 1 1 1 1 1 2 2 1 1 1\n",
            " 1 1 2 2 3 1 1 1 1 1 1 2 1 1 1 1 1 1 1 1 2 1 2 1 1 2 1 1 3 1 1 1 2 1 1 1 2\n",
            " 1 0 0 1 1 0 1 1 1 2 1 1 1 2 1 1 1 1 1 1 1 1 2 2 3 2 1 1 1 1 1 2 1 0 1 1 2\n",
            " 1 1 1 3 1 2 2 1 1 2 1 1 2 1 2 2 1 3 1 1 1 2 3 1 1 3 1 1 1 1 1 1 1 2 1 1 1\n",
            " 1 1 1 1 1 2 1 1 1 0 1 1 1 1 1 1 3 1 2 1 1 1 2 1 1 1 1 1 1 3 1 1 1 1 1 1 1\n",
            " 3 3 1 2 1 2 1 1 1 2 1 1 1 1 1 1 1 2 1 2 1 1 2 1 1 1 1 1 1 1 1 2 2 2 1 1 1\n",
            " 1 0 1 1 1 3 2 2 0 1 1 2 1 2 2 1 2 3 2 2 1 1 2 1 1 2 1 1 1 1 1 1 1 1 2 0 1\n",
            " 1 1 1 2 1 1 2 1 1 3 2 3 1 1 2 2 1 1 1 1 1 1 1 1 1 1 2 0 1 1 3 1 1 2 2 2 1\n",
            " 2 1 1 1 1 1 0 2 1 2 2 1 1 1 0 1 1 1 1 1 1 1 3 1 2 2 1 1 2 3 2 2 1 2 0 2 1\n",
            " 1 0 1 2 0 1 1 1 2 1 1 1 1 2 1 1 1 1 1 2 2 1 2 2 1 1 1 2 2 1 1 1 1 0 1 1 2\n",
            " 1 3 1 1 1 1 2 1 1 1 0 1 1 3 1 0 0 1 1 2 1 1 1 0 1 2 1 2 2 2 1 0 1 1 1 1 1\n",
            " 1 2 1 1 2 2 1 2 3 0 1 1 2 2 2 1 1 1 2 1 2 1 1 3 1 1 1 1 2 2 1 1 0 2 1 2 1\n",
            " 1 1 2 2 2 1 1 1 1 1 1 1 2 1 1 1 1 1 2 1 1 2 2 1 1 1 1 2 1 1 3 1 1 1 1 1 1\n",
            " 1 1 1 1 1 1 1 2 0 1 1 1 1 2 1 1 1 2 1 1 2 1 0 1 3 2 1 1 1 2 1 1 3 2 2 2 1\n",
            " 1 1 1 1 1 1 1 1 0 1 1 0 1 2 1 1 1 2 1 1 1 2 1 1 1 2 0 1 1 1 2 2 1 2 2 1 0\n",
            " 2 2 1 1 2 1 0 1 2 1 1 1 1 2 1 1 1 1 0 1 1 1 2 1 2 1 2 1 1 1 1 2 2 2 1 2 1\n",
            " 1 1 1 1 1 1 1 1 1 0 1 1 1 2 1 3 1 2 2 1 1 1 0 1 2 1 1 1 1 2 1 1 1 2 1 1 1\n",
            " 1 1 2 1 1 1 1 2 1 1 1 0 1 1 3 2 1 1 1 2 1 1 1 1 1]\n",
            "\n",
            "X dtype: float32\n",
            "Y dtype: int64\n",
            "Class 0: Count = 47\n",
            "Class 1: Count = 558\n",
            "Class 2: Count = 193\n",
            "Class 3: Count = 41\n"
          ]
        }
      ],
      "source": [
        "# Combine X and y into a single array\n",
        "combined_data = np.column_stack((X_MLC, y_MLC))\n",
        "\n",
        "# Shuffle the combined data\n",
        "np.random.shuffle(combined_data)\n",
        "\n",
        "# Split the shuffled data back into X and y\n",
        "shuffled_X = combined_data[:, :-1]\n",
        "shuffled_y = combined_data[:, -1]\n",
        "\n",
        "shuffled_X,shuffled_y=to_numeric (shuffled_X,shuffled_y)\n",
        "\n",
        "\n",
        "# Count the occurrences of each class (0, 1, 2, 3)\n",
        "class_counts = np.bincount(shuffled_y)\n",
        "for i, count in enumerate(class_counts):\n",
        "    print(f\"Class {i}: Count = {count}\")\n",
        "# class 4-->0 , class A-->1 ,class H-->2 ,class u-->3\n"
      ]
    },
    {
      "cell_type": "code",
      "execution_count": null,
      "metadata": {
        "colab": {
          "base_uri": "https://localhost:8080/"
        },
        "id": "OkYqMnMK5y8_",
        "outputId": "1cdbbeda-9b1f-4d7d-a8d7-f727d0865fc8"
      },
      "outputs": [
        {
          "name": "stdout",
          "output_type": "stream",
          "text": [
            "Number of training samples: 503\n",
            "Number of validation samples: 168\n",
            "Number of test samples: 168\n"
          ]
        }
      ],
      "source": [
        "X_train_random, X_temp_random, y_train_random, y_temp_random= train_test_split(shuffled_X, shuffled_y, test_size=0.4, random_state=42)\n",
        "X_val_random, X_test_random, y_val_random, y_test_random = train_test_split(X_temp_random, y_temp_random, test_size=0.5, random_state=42)\n",
        "\n",
        "# Print the number of samples in each split\n",
        "print(\"Number of training samples:\", len(X_train_random))\n",
        "print(\"Number of validation samples:\", len(X_val_random))\n",
        "print(\"Number of test samples:\", len(X_test_random))"
      ]
    },
    {
      "cell_type": "code",
      "execution_count": null,
      "metadata": {
        "colab": {
          "base_uri": "https://localhost:8080/"
        },
        "id": "ggUhlayT6Veo",
        "outputId": "0d0480da-8fda-49c9-d56f-b2c154194ee5"
      },
      "outputs": [
        {
          "name": "stderr",
          "output_type": "stream",
          "text": [
            "/usr/local/lib/python3.10/dist-packages/sklearn/linear_model/_logistic.py:458: ConvergenceWarning: lbfgs failed to converge (status=1):\n",
            "STOP: TOTAL NO. of ITERATIONS REACHED LIMIT.\n",
            "\n",
            "Increase the number of iterations (max_iter) or scale the data as shown in:\n",
            "    https://scikit-learn.org/stable/modules/preprocessing.html\n",
            "Please also refer to the documentation for alternative solver options:\n",
            "    https://scikit-learn.org/stable/modules/linear_model.html#logistic-regression\n",
            "  n_iter_i = _check_optimize_result(\n"
          ]
        }
      ],
      "source": [
        "y_train_pred_random,y_test_pred_random=MLC_Model(X_train_random, y_train_random,X_test_random)"
      ]
    },
    {
      "cell_type": "markdown",
      "metadata": {
        "id": "l_D_Xkxy9Ge-"
      },
      "source": [
        "#### Evaluation on training"
      ]
    },
    {
      "cell_type": "code",
      "execution_count": null,
      "metadata": {
        "colab": {
          "base_uri": "https://localhost:8080/",
          "height": 436
        },
        "id": "yNIkAyQj9GfA",
        "outputId": "5c088686-15dd-41c8-d0a0-03b71cb42035"
      },
      "outputs": [
        {
          "name": "stdout",
          "output_type": "stream",
          "text": [
            "Training Set Metrics:\n",
            "Accuracy: 99.60\n",
            "Average Recall: 99.56\n",
            "Average Precision: 99.85\n",
            "F1 Score: 99.70\n"
          ]
        },
        {
          "data": {
            "image/png": "[encoded data removed]",
            "text/plain": [
              "<Figure size 400x300 with 2 Axes>"
            ]
          },
          "metadata": {},
          "output_type": "display_data"
        },
        {
          "name": "stdout",
          "output_type": "stream",
          "text": [
            "\n",
            "\n"
          ]
        }
      ],
      "source": [
        "MLC_Evalution(y_train_random, y_train_pred_random,'Training')"
      ]
    },
    {
      "cell_type": "markdown",
      "metadata": {
        "id": "5R88yvan9GfB"
      },
      "source": [
        "#### Evaluation on testing"
      ]
    },
    {
      "cell_type": "code",
      "execution_count": null,
      "metadata": {
        "colab": {
          "base_uri": "https://localhost:8080/",
          "height": 436
        },
        "id": "3KYVN3Av9GfC",
        "outputId": "a1ffc8df-b9eb-44d2-f2d4-12ea6d116ac1"
      },
      "outputs": [
        {
          "name": "stdout",
          "output_type": "stream",
          "text": [
            "Testing Set Metrics:\n",
            "Accuracy: 58.33\n",
            "Average Recall: 39.08\n",
            "Average Precision: 37.92\n",
            "F1 Score: 38.49\n"
          ]
        },
        {
          "data": {
            "image/png": "[encoded data removed]",
            "text/plain": [
              "<Figure size 400x300 with 2 Axes>"
            ]
          },
          "metadata": {},
          "output_type": "display_data"
        },
        {
          "name": "stdout",
          "output_type": "stream",
          "text": [
            "\n",
            "\n"
          ]
        }
      ],
      "source": [
        "MLC_Evalution(y_test_random, y_test_pred_random,'Testing')"
      ]
    },
    {
      "cell_type": "markdown",
      "metadata": {
        "id": "wfAGshap9cqu"
      },
      "source": [
        "###Use train_test_split(Stratified Sampling)\n",
        "\n",
        "\n",
        "\n"
      ]
    },
    {
      "cell_type": "code",
      "execution_count": null,
      "metadata": {
        "colab": {
          "base_uri": "https://localhost:8080/"
        },
        "id": "qQMYOGZ79cqw",
        "outputId": "588d5835-a05d-4d9b-8f36-79a9ae903e3d"
      },
      "outputs": [
        {
          "name": "stdout",
          "output_type": "stream",
          "text": [
            "Transformed labels: [0 0 0 0 0 0 0 0 0 0 0 0 0 0 0 0 0 0 0 0 0 0 0 0 0 0 0 0 0 0 0 0 0 0 0 0 0\n",
            " 0 0 0 0 0 0 0 0 0 0 1 1 1 1 1 1 1 1 1 1 1 1 1 1 1 1 1 1 1 1 1 1 1 1 1 1 1\n",
            " 1 1 1 1 1 1 1 1 1 1 1 1 1 1 1 1 1 1 1 1 1 1 1 1 1 1 1 1 1 1 1 1 1 1 1 1 1\n",
            " 1 1 1 1 1 1 1 1 1 1 1 1 1 1 1 1 1 1 1 1 1 1 1 1 1 1 1 1 1 1 1 1 1 1 1 1 1\n",
            " 1 1 1 1 1 1 1 1 1 1 1 1 1 1 1 1 1 1 1 1 1 1 1 1 1 1 1 1 1 1 1 1 1 1 1 1 1\n",
            " 1 1 1 1 1 1 1 1 1 1 1 1 1 1 1 1 1 1 1 1 1 1 1 1 1 1 1 1 1 1 1 1 1 1 1 1 1\n",
            " 1 1 1 1 1 1 1 1 1 1 1 1 1 1 1 1 1 1 1 1 1 1 1 1 1 1 1 1 1 1 1 1 1 1 1 1 1\n",
            " 1 1 1 1 1 1 1 1 1 1 1 1 1 1 1 1 1 1 1 1 1 1 1 1 1 1 1 1 1 1 1 1 1 1 1 1 1\n",
            " 1 1 1 1 1 1 1 1 1 1 1 1 1 1 1 1 1 1 1 1 1 1 1 1 1 1 1 1 1 1 1 1 1 1 1 1 1\n",
            " 1 1 1 1 1 1 1 1 1 1 1 1 1 1 1 1 1 1 1 1 1 1 1 1 1 1 1 1 1 1 1 1 1 1 1 1 1\n",
            " 1 1 1 1 1 1 1 1 1 1 1 1 1 1 1 1 1 1 1 1 1 1 1 1 1 1 1 1 1 1 1 1 1 1 1 1 1\n",
            " 1 1 1 1 1 1 1 1 1 1 1 1 1 1 1 1 1 1 1 1 1 1 1 1 1 1 1 1 1 1 1 1 1 1 1 1 1\n",
            " 1 1 1 1 1 1 1 1 1 1 1 1 1 1 1 1 1 1 1 1 1 1 1 1 1 1 1 1 1 1 1 1 1 1 1 1 1\n",
            " 1 1 1 1 1 1 1 1 1 1 1 1 1 1 1 1 1 1 1 1 1 1 1 1 1 1 1 1 1 1 1 1 1 1 1 1 1\n",
            " 1 1 1 1 1 1 1 1 1 1 1 1 1 1 1 1 1 1 1 1 1 1 1 1 1 1 1 1 1 1 1 1 1 1 1 1 1\n",
            " 1 1 1 1 1 1 1 1 1 1 1 1 1 1 1 1 1 1 1 1 1 1 1 1 1 1 1 1 1 1 1 1 1 1 1 1 1\n",
            " 1 1 1 1 1 1 1 1 1 1 1 1 1 3 3 3 3 3 3 3 3 3 3 3 3 3 3 3 3 3 3 3 3 3 3 3 3\n",
            " 3 3 3 3 3 3 3 3 3 3 3 3 3 3 3 3 3 2 2 2 2 2 2 2 2 2 2 2 2 2 2 2 2 2 2 2 2\n",
            " 2 2 2 2 2 2 2 2 2 2 2 2 2 2 2 2 2 2 2 2 2 2 2 2 2 2 2 2 2 2 2 2 2 2 2 2 2\n",
            " 2 2 2 2 2 2 2 2 2 2 2 2 2 2 2 2 2 2 2 2 2 2 2 2 2 2 2 2 2 2 2 2 2 2 2 2 2\n",
            " 2 2 2 2 2 2 2 2 2 2 2 2 2 2 2 2 2 2 2 2 2 2 2 2 2 2 2 2 2 2 2 2 2 2 2 2 2\n",
            " 2 2 2 2 2 2 2 2 2 2 2 2 2 2 2 2 2 2 2 2 2 2 2 2 2 2 2 2 2 2 2 2 2 2 2 2 2\n",
            " 2 2 2 2 2 2 2 2 2 2 2 2 2 2 2 2 2 2 2 2 2 2 2 2 2]\n",
            "\n",
            "X dtype: float32\n",
            "Y dtype: int64\n"
          ]
        }
      ],
      "source": [
        "X_MLC,y_MLC_encoded=to_numeric (X_MLC,y_MLC)"
      ]
    },
    {
      "cell_type": "code",
      "execution_count": null,
      "metadata": {
        "colab": {
          "base_uri": "https://localhost:8080/"
        },
        "id": "yaV_dx-k9cqx",
        "outputId": "7bb31afd-ef89-497c-9a4d-aed6587ab6db"
      },
      "outputs": [
        {
          "name": "stdout",
          "output_type": "stream",
          "text": [
            "Number of training samples: 503\n",
            "Number of validation samples: 168\n",
            "Number of test samples: 168\n"
          ]
        }
      ],
      "source": [
        "X_train, X_temp, y_train, y_temp = train_test_split(X_MLC, y_MLC_encoded, test_size=0.4, random_state=42, stratify=y_MLC_encoded)\n",
        "X_val, X_test, y_val, y_test = train_test_split(X_temp, y_temp, test_size=0.5, random_state=42, stratify=y_temp)\n",
        "\n",
        "# Print the number of samples in each split\n",
        "print(\"Number of training samples:\", len(X_train))\n",
        "print(\"Number of validation samples:\", len(X_val))\n",
        "print(\"Number of test samples:\", len(X_test))"
      ]
    },
    {
      "cell_type": "code",
      "execution_count": null,
      "metadata": {
        "colab": {
          "base_uri": "https://localhost:8080/"
        },
        "id": "AUkDH9FJ9cqy",
        "outputId": "4cd1e8c7-ce58-4ad7-da6e-877f754d6747"
      },
      "outputs": [
        {
          "name": "stderr",
          "output_type": "stream",
          "text": [
            "/usr/local/lib/python3.10/dist-packages/sklearn/linear_model/_logistic.py:458: ConvergenceWarning: lbfgs failed to converge (status=1):\n",
            "STOP: TOTAL NO. of ITERATIONS REACHED LIMIT.\n",
            "\n",
            "Increase the number of iterations (max_iter) or scale the data as shown in:\n",
            "    https://scikit-learn.org/stable/modules/preprocessing.html\n",
            "Please also refer to the documentation for alternative solver options:\n",
            "    https://scikit-learn.org/stable/modules/linear_model.html#logistic-regression\n",
            "  n_iter_i = _check_optimize_result(\n"
          ]
        }
      ],
      "source": [
        "y_train_pred,y_test_pred=MLC_Model (X_train, y_train,X_test)"
      ]
    },
    {
      "cell_type": "markdown",
      "metadata": {
        "id": "50fMgUd19cqy"
      },
      "source": [
        "#### Evaluation on training"
      ]
    },
    {
      "cell_type": "code",
      "execution_count": null,
      "metadata": {
        "colab": {
          "base_uri": "https://localhost:8080/",
          "height": 436
        },
        "id": "vUVkCP2Z9cqz",
        "outputId": "759e5d42-6109-400e-ab74-9e906fee4b7d"
      },
      "outputs": [
        {
          "name": "stdout",
          "output_type": "stream",
          "text": [
            "Training Set Metrics:\n",
            "Accuracy: 98.81\n",
            "Average Recall: 98.71\n",
            "Average Precision: 99.56\n",
            "F1 Score: 99.13\n"
          ]
        },
        {
          "data": {
            "image/png": "[encoded data removed]",
            "text/plain": [
              "<Figure size 400x300 with 2 Axes>"
            ]
          },
          "metadata": {},
          "output_type": "display_data"
        },
        {
          "name": "stdout",
          "output_type": "stream",
          "text": [
            "\n",
            "\n"
          ]
        }
      ],
      "source": [
        "MLC_Evalution(y_train, y_train_pred,'Training')"
      ]
    },
    {
      "cell_type": "markdown",
      "metadata": {
        "id": "RdVMpX8r9cqz"
      },
      "source": [
        "#### Evaluation on testing"
      ]
    },
    {
      "cell_type": "code",
      "execution_count": null,
      "metadata": {
        "colab": {
          "base_uri": "https://localhost:8080/",
          "height": 436
        },
        "id": "Rk-wUAMs9cqz",
        "outputId": "143602d8-c209-4545-e443-031d147144f0"
      },
      "outputs": [
        {
          "name": "stdout",
          "output_type": "stream",
          "text": [
            "Testing Set Metrics:\n",
            "Accuracy: 49.40\n",
            "Average Recall: 36.81\n",
            "Average Precision: 34.98\n",
            "F1 Score: 35.87\n"
          ]
        },
        {
          "data": {
            "image/png": "[encoded data removed]",
            "text/plain": [
              "<Figure size 400x300 with 2 Axes>"
            ]
          },
          "metadata": {},
          "output_type": "display_data"
        },
        {
          "name": "stdout",
          "output_type": "stream",
          "text": [
            "\n",
            "\n"
          ]
        }
      ],
      "source": [
        "MLC_Evalution(y_test, y_test_pred,'Testing')"
      ]
    },
    {
      "cell_type": "markdown",
      "metadata": {
        "id": "R2e-amy2ucEa"
      },
      "source": [
        "#Result Explanation\n",
        "####In the multiclass classification task using a Logistic Regression classifier with the 'one-vs-rest' (OvR) strategy and four target classes ('4', 'A', 'H', and 'u'), the performance of the classifier is influenced by class imbalance.\n",
        "\n",
        "####-Class Imbalance: The dataset exhibits significant class imbalance, with 'A' having the largest number of samples (558), 'H' having 193 samples, '4' having 47 samples, and 'u' having 41 samples.\n",
        "\n",
        "####-Easier vs. More Difficult Classes:Easier Classes: The classifier performs very well on the majority classes 'A' and 'H' in both training scenarios. These classes have larger sample sizes, and the model effectively learns to classify them.\n",
        "\n",
        "####-More Difficult Classes: The minority classes '4' and 'u' are more challenging for the classifier. In both training scenarios, the model struggles to correctly classify these classes, resulting in lower accuracy, average recall, average precision, and F1 scores for these classes.\n",
        "\n",
        "####-Confusion: The classifier tends to confuse the minority classes ('4' and 'u') with the majority classes ('A' and 'H'). This confusion is evident from the lower average recall and precision scores for these minority classes.\n",
        "\n",
        "####-Impact of Stratified Sampling: Stratified sampling helps maintain class balance in the training set without significantly impacting overall performance. It results in slightly lower accuracy on the training data but maintains good average recall, average precision, and F1 scores.\n",
        "\n",
        "####-Challenges on Testing Data: On the testing data, regardless of stratified sampling, the classifier faces difficulties in generalization, especially for the minority classes. This indicates that the model struggles to perform well on unseen data, particularly for underrepresented classes."
      ]
    },
    {
      "cell_type": "code",
      "execution_count": null,
      "metadata": {
        "id": "Wjwih2kOuyKx"
      },
      "outputs": [],
      "source": []
    }
  ],
  "metadata": {
    "colab": {
      "collapsed_sections": [
        "oZnrWMXYejCA",
        "VtWKWN46iHTX",
        "qaVt1tvbfTqm",
        "_R2zp0BtndSi",
        "aaRb5xzkBK3K",
        "qInNhN1fl2H5",
        "nTfPzZMu-6ZO",
        "pjXdycVSSUW1"
      ],
      "provenance": []
    },
    "kernelspec": {
      "display_name": "Python 3",
      "name": "python3"
    },
    "language_info": {
      "name": "python"
    }
  },
  "nbformat": 4,
  "nbformat_minor": 0
}
